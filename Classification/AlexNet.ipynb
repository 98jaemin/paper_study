{
  "nbformat": 4,
  "nbformat_minor": 0,
  "metadata": {
    "colab": {
      "name": "AlexNet.ipynb",
      "provenance": []
    },
    "kernelspec": {
      "name": "python3",
      "display_name": "Python 3"
    },
    "language_info": {
      "name": "python"
    },
    "accelerator": "GPU"
  },
  "cells": [
    {
      "cell_type": "code",
      "execution_count": 15,
      "metadata": {
        "id": "2qr143_m7Sol"
      },
      "outputs": [],
      "source": [
        "import numpy as np\n",
        "import pandas as pd\n",
        "\n",
        "import torch\n",
        "import torch.nn as nn\n",
        "import torchvision\n",
        "import torchvision.transforms as transforms\n",
        "\n",
        "from tqdm import tqdm\n",
        "from torchsummary import summary"
      ]
    },
    {
      "cell_type": "code",
      "source": [
        "device = 'cuda' if torch.cuda.is_available() else 'cpu'"
      ],
      "metadata": {
        "id": "fC9xzuz-QIBb"
      },
      "execution_count": 16,
      "outputs": []
    },
    {
      "cell_type": "code",
      "source": [
        "BATCH_SIZE = 128\n",
        "MOMENTUM = 0.9\n",
        "LR = 0.001\n",
        "N_EPOCH = 10     # 논문에서는 90\n",
        "WEIGHT_DECAY = 0.0005"
      ],
      "metadata": {
        "id": "_Wz71sh_CW2s"
      },
      "execution_count": 17,
      "outputs": []
    },
    {
      "cell_type": "code",
      "source": [
        "cifar_train = torchvision.datasets.CIFAR100(root='./data/train/',\n",
        "                                            train=True,\n",
        "                                            download=True)\n",
        "\n",
        "cifar_test = torchvision.datasets.CIFAR100(root='./data/test/',\n",
        "                                           train=False, \n",
        "                                           download=True)"
      ],
      "metadata": {
        "colab": {
          "base_uri": "https://localhost:8080/"
        },
        "id": "lXYeC2uo8rE8",
        "outputId": "e907e21d-1c9e-4e07-a287-aa1a5eb26dba"
      },
      "execution_count": 18,
      "outputs": [
        {
          "output_type": "stream",
          "name": "stdout",
          "text": [
            "Files already downloaded and verified\n",
            "Files already downloaded and verified\n"
          ]
        }
      ]
    },
    {
      "cell_type": "code",
      "source": [
        "mean_R = np.mean(cifar_train.data[..., 0])\n",
        "mean_G = np.mean(cifar_train.data[..., 1])\n",
        "mean_B = np.mean(cifar_train.data[..., 2])\n",
        "\n",
        "std_R = np.std(cifar_train.data[..., 0])\n",
        "std_G = np.std(cifar_train.data[..., 1])\n",
        "std_B = np.std(cifar_train.data[..., 2])"
      ],
      "metadata": {
        "id": "yEuLyWupazPG"
      },
      "execution_count": 19,
      "outputs": []
    },
    {
      "cell_type": "code",
      "source": [
        "train_transform = transforms.Compose([transforms.ToTensor(),\n",
        "                                      transforms.Resize((224, 224)),\n",
        "                                      transforms.Normalize((0.5, 0.5, 0.5), (0.5, 0.5, 0.5)),\n",
        "                                      transforms.RandomHorizontalFlip()\n",
        "                                     ])\n",
        "\n",
        "test_transform = transforms.Compose([transforms.ToTensor(),\n",
        "                                     transforms.Resize((224, 224)),\n",
        "                                     transforms.Normalize((0.5, 0.5, 0.5), (0.5, 0.5, 0.5)),\n",
        "                                    ])\n",
        "\n",
        "cifar_train.transform = train_transform\n",
        "cifar_test.transform = test_transform"
      ],
      "metadata": {
        "id": "zKoUeBYpayGc"
      },
      "execution_count": 20,
      "outputs": []
    },
    {
      "cell_type": "code",
      "source": [
        "trainLoader = torch.utils.data.DataLoader(cifar_train,\n",
        "                                          batch_size=BATCH_SIZE,\n",
        "                                          shuffle=True)\n",
        "\n",
        "testLoader = torch.utils.data.DataLoader(cifar_test,\n",
        "                                         batch_size=BATCH_SIZE,\n",
        "                                         shuffle=False)"
      ],
      "metadata": {
        "id": "BO0LZVqW9ZRl"
      },
      "execution_count": 21,
      "outputs": []
    },
    {
      "cell_type": "code",
      "source": [
        "class AlexNet(nn.Module):\n",
        "    def __init__(self):\n",
        "        super(AlexNet, self).__init__()\n",
        "\n",
        "        self.conv_block = nn.Sequential(nn.Conv2d(3, 96, kernel_size=(11, 11), stride=4),\n",
        "                                        nn.ReLU(),\n",
        "                                        nn.LocalResponseNorm(size=5, alpha=1e-5, beta=0.75, k=2),\n",
        "                                        nn.MaxPool2d(kernel_size=3, stride=2),\n",
        "                                        nn.Conv2d(96, 256, kernel_size=(5, 5), padding='same'),\n",
        "                                        nn.ReLU(),\n",
        "                                        nn.LocalResponseNorm(size=5, alpha=1e-5, beta=0.75, k=2),\n",
        "                                        nn.MaxPool2d(kernel_size=3, stride=2),\n",
        "                                        nn.Conv2d(256, 384, kernel_size=(3, 3), padding='same'),\n",
        "                                        nn.ReLU(),\n",
        "                                        nn.Conv2d(384, 384, kernel_size=(3, 3), padding='same'),\n",
        "                                        nn.ReLU(),\n",
        "                                        nn.Conv2d(384, 256, kernel_size=(3, 3), padding=1),\n",
        "                                        nn.ReLU(),\n",
        "                                        nn.MaxPool2d(kernel_size=3, stride=2)                     \n",
        "                                      )\n",
        "    \n",
        "        self.classifier = nn.Sequential(nn.Dropout2d(p=0.5),\n",
        "                                        nn.Linear(6400, 4096),\n",
        "                                        nn.ReLU(),\n",
        "                                        nn.Dropout2d(p=0.5),\n",
        "                                        nn.Linear(4096, 4096),\n",
        "                                        nn.ReLU(),\n",
        "                                        nn.Linear(4096, 100)\n",
        "                                      )\n",
        "\n",
        "        # weight initializaiton\n",
        "        for layer in self.conv_block:\n",
        "            if isinstance(layer, nn.Conv2d):\n",
        "                nn.init.normal_(layer.weight, mean=0, std=0.01)\n",
        "\n",
        "        # bias initialization\n",
        "        nn.init.constant_(self.conv_block[0].bias, 0)      # Conv 1\n",
        "        nn.init.constant_(self.conv_block[8].bias, 0)      # Conv 3\n",
        "\n",
        "        nn.init.constant_(self.conv_block[4].bias, 1)      # Conv 2\n",
        "        nn.init.constant_(self.conv_block[10].bias, 1)      # Conv 4\n",
        "        nn.init.constant_(self.conv_block[12].bias, 1)      # Conv 5\n",
        "        nn.init.constant_(self.classifier[1].bias, 1)      # fc 1\n",
        "        nn.init.constant_(self.classifier[4].bias, 1)      # fc 2\n",
        "        \n",
        "\n",
        "    def forward(self, x):\n",
        "        x = self.conv_block(x)\n",
        "        x = torch.flatten(x, start_dim=1)\n",
        "        out = self.classifier(x)\n",
        "        return out"
      ],
      "metadata": {
        "id": "v-k-hbfICrQ8"
      },
      "execution_count": 22,
      "outputs": []
    },
    {
      "cell_type": "code",
      "source": [
        "alexnet = AlexNet().to(device)"
      ],
      "metadata": {
        "id": "QahesZAS3yD7"
      },
      "execution_count": 23,
      "outputs": []
    },
    {
      "cell_type": "code",
      "source": [
        "summary(alexnet, (3, 224, 224))"
      ],
      "metadata": {
        "colab": {
          "base_uri": "https://localhost:8080/"
        },
        "id": "wVczhl_U305b",
        "outputId": "ef44c18b-764b-4ea3-b4ce-9d0dbf3ae0a0"
      },
      "execution_count": 24,
      "outputs": [
        {
          "output_type": "stream",
          "name": "stdout",
          "text": [
            "----------------------------------------------------------------\n",
            "        Layer (type)               Output Shape         Param #\n",
            "================================================================\n",
            "            Conv2d-1           [-1, 96, 54, 54]          34,944\n",
            "              ReLU-2           [-1, 96, 54, 54]               0\n",
            " LocalResponseNorm-3           [-1, 96, 54, 54]               0\n",
            "         MaxPool2d-4           [-1, 96, 26, 26]               0\n",
            "            Conv2d-5          [-1, 256, 26, 26]         614,656\n",
            "              ReLU-6          [-1, 256, 26, 26]               0\n",
            " LocalResponseNorm-7          [-1, 256, 26, 26]               0\n",
            "         MaxPool2d-8          [-1, 256, 12, 12]               0\n",
            "            Conv2d-9          [-1, 384, 12, 12]         885,120\n",
            "             ReLU-10          [-1, 384, 12, 12]               0\n",
            "           Conv2d-11          [-1, 384, 12, 12]       1,327,488\n",
            "             ReLU-12          [-1, 384, 12, 12]               0\n",
            "           Conv2d-13          [-1, 256, 12, 12]         884,992\n",
            "             ReLU-14          [-1, 256, 12, 12]               0\n",
            "        MaxPool2d-15            [-1, 256, 5, 5]               0\n",
            "        Dropout2d-16                 [-1, 6400]               0\n",
            "           Linear-17                 [-1, 4096]      26,218,496\n",
            "             ReLU-18                 [-1, 4096]               0\n",
            "        Dropout2d-19                 [-1, 4096]               0\n",
            "           Linear-20                 [-1, 4096]      16,781,312\n",
            "             ReLU-21                 [-1, 4096]               0\n",
            "           Linear-22                  [-1, 100]         409,700\n",
            "================================================================\n",
            "Total params: 47,156,708\n",
            "Trainable params: 47,156,708\n",
            "Non-trainable params: 0\n",
            "----------------------------------------------------------------\n",
            "Input size (MB): 0.57\n",
            "Forward/backward pass size (MB): 13.65\n",
            "Params size (MB): 179.89\n",
            "Estimated Total Size (MB): 194.11\n",
            "----------------------------------------------------------------\n"
          ]
        }
      ]
    },
    {
      "cell_type": "code",
      "source": [
        "## 논문에서 사용된 optimizer인데 학습이 안 됨...\n",
        "# optimizer = torch.optim.SGD(alexnet.parameters(), lr=LR, momentum=MOMENTUM, weight_decay=WEIGHT_DECAY)\n",
        "\n",
        "## 논문에서는 총 3번에 걸쳐 LR을 1/10로 줄임 \n",
        "# lr_scheduler = torch.optim.lr_scheduler.StepLR(optimizer, step_size=30, gamma=0.1)\n",
        "\n",
        "optimizer = torch.optim.Adam(alexnet.parameters(), lr=1e-3)\n",
        "loss_fn = nn.CrossEntropyLoss()"
      ],
      "metadata": {
        "id": "yNgOonT1B2-P"
      },
      "execution_count": 25,
      "outputs": []
    },
    {
      "cell_type": "code",
      "source": [
        "def train_loop(model, dataLoader):\n",
        "    train_loss = 0\n",
        "    model.train()\n",
        "    for image, label in tqdm(dataLoader):\n",
        "        image, label = image.to(device), label.to(device)\n",
        "        output = model(image)\n",
        "        loss = loss_fn(output, label)\n",
        "\n",
        "        optimizer.zero_grad()\n",
        "        loss.backward()\n",
        "        optimizer.step()\n",
        "\n",
        "        train_loss += loss.item()\n",
        "    return train_loss / len(dataLoader)"
      ],
      "metadata": {
        "id": "Fi3_fGXNJ-sx"
      },
      "execution_count": 26,
      "outputs": []
    },
    {
      "cell_type": "code",
      "source": [
        "def val_loop(model, dataLoader):\n",
        "    val_loss = 0\n",
        "    val_acc = 0\n",
        "    model.eval()\n",
        "    with torch.no_grad():\n",
        "        for image, label in tqdm(dataLoader):\n",
        "            image, label = image.to(device), label.to(device)\n",
        "            output = model(image)\n",
        "            loss = loss_fn(output, label)\n",
        "\n",
        "            val_loss += loss.item()\n",
        "            val_acc += (torch.argmax(output, dim=1) == label).sum().item()\n",
        "    \n",
        "    return val_loss / len(dataLoader), val_acc / len(dataLoader.dataset) * 100"
      ],
      "metadata": {
        "id": "8ombORj3RrYy"
      },
      "execution_count": 27,
      "outputs": []
    },
    {
      "cell_type": "code",
      "source": [
        "for epoch in range(1, N_EPOCH+1):\n",
        "    print(f'[[ EPOCH {epoch} ]]')\n",
        "    train_loss = train_loop(alexnet, trainLoader)\n",
        "    val_loss, val_acc = val_loop(alexnet, testLoader)\n",
        "    print('\\nTrain Loss : {:.4f}, Val Loss : {:.4f}, Val Accuracy : {:.2f} %\\n'.format(\n",
        "           train_loss, val_loss, val_acc\n",
        "    ))"
      ],
      "metadata": {
        "colab": {
          "base_uri": "https://localhost:8080/"
        },
        "id": "UZ_Rk4A_SQNL",
        "outputId": "3fcc23ad-33d7-4d76-a77f-0b5da91e2b9c"
      },
      "execution_count": 28,
      "outputs": [
        {
          "output_type": "stream",
          "name": "stdout",
          "text": [
            "[[ EPOCH 1 ]]\n"
          ]
        },
        {
          "output_type": "stream",
          "name": "stderr",
          "text": [
            "100%|██████████| 391/391 [04:59<00:00,  1.31it/s]\n",
            "100%|██████████| 79/79 [00:31<00:00,  2.50it/s]\n"
          ]
        },
        {
          "output_type": "stream",
          "name": "stdout",
          "text": [
            "\n",
            "Train Loss : 4.7012, Val Loss : 4.0186, Val Accuracy : 6.57 %\n",
            "\n",
            "[[ EPOCH 2 ]]\n"
          ]
        },
        {
          "output_type": "stream",
          "name": "stderr",
          "text": [
            "100%|██████████| 391/391 [05:01<00:00,  1.30it/s]\n",
            "100%|██████████| 79/79 [00:32<00:00,  2.45it/s]\n"
          ]
        },
        {
          "output_type": "stream",
          "name": "stdout",
          "text": [
            "\n",
            "Train Loss : 3.9197, Val Loss : 3.6827, Val Accuracy : 11.94 %\n",
            "\n",
            "[[ EPOCH 3 ]]\n"
          ]
        },
        {
          "output_type": "stream",
          "name": "stderr",
          "text": [
            "100%|██████████| 391/391 [05:02<00:00,  1.29it/s]\n",
            "100%|██████████| 79/79 [00:32<00:00,  2.45it/s]\n"
          ]
        },
        {
          "output_type": "stream",
          "name": "stdout",
          "text": [
            "\n",
            "Train Loss : 3.6172, Val Loss : 3.4200, Val Accuracy : 16.93 %\n",
            "\n",
            "[[ EPOCH 4 ]]\n"
          ]
        },
        {
          "output_type": "stream",
          "name": "stderr",
          "text": [
            "100%|██████████| 391/391 [05:00<00:00,  1.30it/s]\n",
            "100%|██████████| 79/79 [00:31<00:00,  2.47it/s]\n"
          ]
        },
        {
          "output_type": "stream",
          "name": "stdout",
          "text": [
            "\n",
            "Train Loss : 3.3716, Val Loss : 3.1707, Val Accuracy : 22.24 %\n",
            "\n",
            "[[ EPOCH 5 ]]\n"
          ]
        },
        {
          "output_type": "stream",
          "name": "stderr",
          "text": [
            "100%|██████████| 391/391 [04:59<00:00,  1.31it/s]\n",
            "100%|██████████| 79/79 [00:32<00:00,  2.47it/s]\n"
          ]
        },
        {
          "output_type": "stream",
          "name": "stdout",
          "text": [
            "\n",
            "Train Loss : 3.1582, Val Loss : 2.9314, Val Accuracy : 26.90 %\n",
            "\n",
            "[[ EPOCH 6 ]]\n"
          ]
        },
        {
          "output_type": "stream",
          "name": "stderr",
          "text": [
            "100%|██████████| 391/391 [05:00<00:00,  1.30it/s]\n",
            "100%|██████████| 79/79 [00:31<00:00,  2.48it/s]\n"
          ]
        },
        {
          "output_type": "stream",
          "name": "stdout",
          "text": [
            "\n",
            "Train Loss : 2.9695, Val Loss : 2.7380, Val Accuracy : 30.64 %\n",
            "\n",
            "[[ EPOCH 7 ]]\n"
          ]
        },
        {
          "output_type": "stream",
          "name": "stderr",
          "text": [
            "100%|██████████| 391/391 [04:59<00:00,  1.30it/s]\n",
            "100%|██████████| 79/79 [00:32<00:00,  2.47it/s]\n"
          ]
        },
        {
          "output_type": "stream",
          "name": "stdout",
          "text": [
            "\n",
            "Train Loss : 2.8242, Val Loss : 2.5952, Val Accuracy : 32.91 %\n",
            "\n",
            "[[ EPOCH 8 ]]\n"
          ]
        },
        {
          "output_type": "stream",
          "name": "stderr",
          "text": [
            "100%|██████████| 391/391 [04:58<00:00,  1.31it/s]\n",
            "100%|██████████| 79/79 [00:31<00:00,  2.49it/s]\n"
          ]
        },
        {
          "output_type": "stream",
          "name": "stdout",
          "text": [
            "\n",
            "Train Loss : 2.6824, Val Loss : 2.5162, Val Accuracy : 34.95 %\n",
            "\n",
            "[[ EPOCH 9 ]]\n"
          ]
        },
        {
          "output_type": "stream",
          "name": "stderr",
          "text": [
            "100%|██████████| 391/391 [04:59<00:00,  1.31it/s]\n",
            "100%|██████████| 79/79 [00:32<00:00,  2.46it/s]\n"
          ]
        },
        {
          "output_type": "stream",
          "name": "stdout",
          "text": [
            "\n",
            "Train Loss : 2.5933, Val Loss : 2.4133, Val Accuracy : 36.60 %\n",
            "\n",
            "[[ EPOCH 10 ]]\n"
          ]
        },
        {
          "output_type": "stream",
          "name": "stderr",
          "text": [
            "100%|██████████| 391/391 [05:00<00:00,  1.30it/s]\n",
            "100%|██████████| 79/79 [00:32<00:00,  2.47it/s]"
          ]
        },
        {
          "output_type": "stream",
          "name": "stdout",
          "text": [
            "\n",
            "Train Loss : 2.4729, Val Loss : 2.3949, Val Accuracy : 37.73 %\n",
            "\n"
          ]
        },
        {
          "output_type": "stream",
          "name": "stderr",
          "text": [
            "\n"
          ]
        }
      ]
    },
    {
      "cell_type": "code",
      "source": [
        ""
      ],
      "metadata": {
        "id": "ZIayUyJ1pv9n"
      },
      "execution_count": 28,
      "outputs": []
    }
  ]
}