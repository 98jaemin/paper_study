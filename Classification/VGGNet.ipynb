{
  "nbformat": 4,
  "nbformat_minor": 0,
  "metadata": {
    "colab": {
      "name": "VGGNet.ipynb",
      "provenance": [],
      "collapsed_sections": []
    },
    "kernelspec": {
      "name": "python3",
      "display_name": "Python 3"
    },
    "language_info": {
      "name": "python"
    },
    "accelerator": "GPU",
    "widgets": {
      "application/vnd.jupyter.widget-state+json": {
        "4b30519f36504ae8b7856f8d01031262": {
          "model_module": "@jupyter-widgets/controls",
          "model_name": "HBoxModel",
          "model_module_version": "1.5.0",
          "state": {
            "_dom_classes": [],
            "_model_module": "@jupyter-widgets/controls",
            "_model_module_version": "1.5.0",
            "_model_name": "HBoxModel",
            "_view_count": null,
            "_view_module": "@jupyter-widgets/controls",
            "_view_module_version": "1.5.0",
            "_view_name": "HBoxView",
            "box_style": "",
            "children": [
              "IPY_MODEL_d8cacb3ebe81488f9ce373c32c47d984",
              "IPY_MODEL_1f8b053046f847a895a5aca30c252f81",
              "IPY_MODEL_661082d744b04f11b3605a2d2d047899"
            ],
            "layout": "IPY_MODEL_936334286b5743c2aafa1a82af155f38"
          }
        },
        "d8cacb3ebe81488f9ce373c32c47d984": {
          "model_module": "@jupyter-widgets/controls",
          "model_name": "HTMLModel",
          "model_module_version": "1.5.0",
          "state": {
            "_dom_classes": [],
            "_model_module": "@jupyter-widgets/controls",
            "_model_module_version": "1.5.0",
            "_model_name": "HTMLModel",
            "_view_count": null,
            "_view_module": "@jupyter-widgets/controls",
            "_view_module_version": "1.5.0",
            "_view_name": "HTMLView",
            "description": "",
            "description_tooltip": null,
            "layout": "IPY_MODEL_b38c3238a77b42fba09a4399dd6d80b9",
            "placeholder": "​",
            "style": "IPY_MODEL_a7fb79b794d8463eabc4f700ac621b6b",
            "value": ""
          }
        },
        "1f8b053046f847a895a5aca30c252f81": {
          "model_module": "@jupyter-widgets/controls",
          "model_name": "FloatProgressModel",
          "model_module_version": "1.5.0",
          "state": {
            "_dom_classes": [],
            "_model_module": "@jupyter-widgets/controls",
            "_model_module_version": "1.5.0",
            "_model_name": "FloatProgressModel",
            "_view_count": null,
            "_view_module": "@jupyter-widgets/controls",
            "_view_module_version": "1.5.0",
            "_view_name": "ProgressView",
            "bar_style": "success",
            "description": "",
            "description_tooltip": null,
            "layout": "IPY_MODEL_e5a9f35e85b04dcebf94760b3a224e30",
            "max": 2640397119,
            "min": 0,
            "orientation": "horizontal",
            "style": "IPY_MODEL_b426b15ca7db4fe7bb5fff39740fff9c",
            "value": 2640397119
          }
        },
        "661082d744b04f11b3605a2d2d047899": {
          "model_module": "@jupyter-widgets/controls",
          "model_name": "HTMLModel",
          "model_module_version": "1.5.0",
          "state": {
            "_dom_classes": [],
            "_model_module": "@jupyter-widgets/controls",
            "_model_module_version": "1.5.0",
            "_model_name": "HTMLModel",
            "_view_count": null,
            "_view_module": "@jupyter-widgets/controls",
            "_view_module_version": "1.5.0",
            "_view_name": "HTMLView",
            "description": "",
            "description_tooltip": null,
            "layout": "IPY_MODEL_9feec28b4d914646963f9a2022140d48",
            "placeholder": "​",
            "style": "IPY_MODEL_1d05d9c535e248e98fc2e2e49d2eca24",
            "value": " 2640397312/? [02:10&lt;00:00, 18991390.70it/s]"
          }
        },
        "936334286b5743c2aafa1a82af155f38": {
          "model_module": "@jupyter-widgets/base",
          "model_name": "LayoutModel",
          "model_module_version": "1.2.0",
          "state": {
            "_model_module": "@jupyter-widgets/base",
            "_model_module_version": "1.2.0",
            "_model_name": "LayoutModel",
            "_view_count": null,
            "_view_module": "@jupyter-widgets/base",
            "_view_module_version": "1.2.0",
            "_view_name": "LayoutView",
            "align_content": null,
            "align_items": null,
            "align_self": null,
            "border": null,
            "bottom": null,
            "display": null,
            "flex": null,
            "flex_flow": null,
            "grid_area": null,
            "grid_auto_columns": null,
            "grid_auto_flow": null,
            "grid_auto_rows": null,
            "grid_column": null,
            "grid_gap": null,
            "grid_row": null,
            "grid_template_areas": null,
            "grid_template_columns": null,
            "grid_template_rows": null,
            "height": null,
            "justify_content": null,
            "justify_items": null,
            "left": null,
            "margin": null,
            "max_height": null,
            "max_width": null,
            "min_height": null,
            "min_width": null,
            "object_fit": null,
            "object_position": null,
            "order": null,
            "overflow": null,
            "overflow_x": null,
            "overflow_y": null,
            "padding": null,
            "right": null,
            "top": null,
            "visibility": null,
            "width": null
          }
        },
        "b38c3238a77b42fba09a4399dd6d80b9": {
          "model_module": "@jupyter-widgets/base",
          "model_name": "LayoutModel",
          "model_module_version": "1.2.0",
          "state": {
            "_model_module": "@jupyter-widgets/base",
            "_model_module_version": "1.2.0",
            "_model_name": "LayoutModel",
            "_view_count": null,
            "_view_module": "@jupyter-widgets/base",
            "_view_module_version": "1.2.0",
            "_view_name": "LayoutView",
            "align_content": null,
            "align_items": null,
            "align_self": null,
            "border": null,
            "bottom": null,
            "display": null,
            "flex": null,
            "flex_flow": null,
            "grid_area": null,
            "grid_auto_columns": null,
            "grid_auto_flow": null,
            "grid_auto_rows": null,
            "grid_column": null,
            "grid_gap": null,
            "grid_row": null,
            "grid_template_areas": null,
            "grid_template_columns": null,
            "grid_template_rows": null,
            "height": null,
            "justify_content": null,
            "justify_items": null,
            "left": null,
            "margin": null,
            "max_height": null,
            "max_width": null,
            "min_height": null,
            "min_width": null,
            "object_fit": null,
            "object_position": null,
            "order": null,
            "overflow": null,
            "overflow_x": null,
            "overflow_y": null,
            "padding": null,
            "right": null,
            "top": null,
            "visibility": null,
            "width": null
          }
        },
        "a7fb79b794d8463eabc4f700ac621b6b": {
          "model_module": "@jupyter-widgets/controls",
          "model_name": "DescriptionStyleModel",
          "model_module_version": "1.5.0",
          "state": {
            "_model_module": "@jupyter-widgets/controls",
            "_model_module_version": "1.5.0",
            "_model_name": "DescriptionStyleModel",
            "_view_count": null,
            "_view_module": "@jupyter-widgets/base",
            "_view_module_version": "1.2.0",
            "_view_name": "StyleView",
            "description_width": ""
          }
        },
        "e5a9f35e85b04dcebf94760b3a224e30": {
          "model_module": "@jupyter-widgets/base",
          "model_name": "LayoutModel",
          "model_module_version": "1.2.0",
          "state": {
            "_model_module": "@jupyter-widgets/base",
            "_model_module_version": "1.2.0",
            "_model_name": "LayoutModel",
            "_view_count": null,
            "_view_module": "@jupyter-widgets/base",
            "_view_module_version": "1.2.0",
            "_view_name": "LayoutView",
            "align_content": null,
            "align_items": null,
            "align_self": null,
            "border": null,
            "bottom": null,
            "display": null,
            "flex": null,
            "flex_flow": null,
            "grid_area": null,
            "grid_auto_columns": null,
            "grid_auto_flow": null,
            "grid_auto_rows": null,
            "grid_column": null,
            "grid_gap": null,
            "grid_row": null,
            "grid_template_areas": null,
            "grid_template_columns": null,
            "grid_template_rows": null,
            "height": null,
            "justify_content": null,
            "justify_items": null,
            "left": null,
            "margin": null,
            "max_height": null,
            "max_width": null,
            "min_height": null,
            "min_width": null,
            "object_fit": null,
            "object_position": null,
            "order": null,
            "overflow": null,
            "overflow_x": null,
            "overflow_y": null,
            "padding": null,
            "right": null,
            "top": null,
            "visibility": null,
            "width": null
          }
        },
        "b426b15ca7db4fe7bb5fff39740fff9c": {
          "model_module": "@jupyter-widgets/controls",
          "model_name": "ProgressStyleModel",
          "model_module_version": "1.5.0",
          "state": {
            "_model_module": "@jupyter-widgets/controls",
            "_model_module_version": "1.5.0",
            "_model_name": "ProgressStyleModel",
            "_view_count": null,
            "_view_module": "@jupyter-widgets/base",
            "_view_module_version": "1.2.0",
            "_view_name": "StyleView",
            "bar_color": null,
            "description_width": ""
          }
        },
        "9feec28b4d914646963f9a2022140d48": {
          "model_module": "@jupyter-widgets/base",
          "model_name": "LayoutModel",
          "model_module_version": "1.2.0",
          "state": {
            "_model_module": "@jupyter-widgets/base",
            "_model_module_version": "1.2.0",
            "_model_name": "LayoutModel",
            "_view_count": null,
            "_view_module": "@jupyter-widgets/base",
            "_view_module_version": "1.2.0",
            "_view_name": "LayoutView",
            "align_content": null,
            "align_items": null,
            "align_self": null,
            "border": null,
            "bottom": null,
            "display": null,
            "flex": null,
            "flex_flow": null,
            "grid_area": null,
            "grid_auto_columns": null,
            "grid_auto_flow": null,
            "grid_auto_rows": null,
            "grid_column": null,
            "grid_gap": null,
            "grid_row": null,
            "grid_template_areas": null,
            "grid_template_columns": null,
            "grid_template_rows": null,
            "height": null,
            "justify_content": null,
            "justify_items": null,
            "left": null,
            "margin": null,
            "max_height": null,
            "max_width": null,
            "min_height": null,
            "min_width": null,
            "object_fit": null,
            "object_position": null,
            "order": null,
            "overflow": null,
            "overflow_x": null,
            "overflow_y": null,
            "padding": null,
            "right": null,
            "top": null,
            "visibility": null,
            "width": null
          }
        },
        "1d05d9c535e248e98fc2e2e49d2eca24": {
          "model_module": "@jupyter-widgets/controls",
          "model_name": "DescriptionStyleModel",
          "model_module_version": "1.5.0",
          "state": {
            "_model_module": "@jupyter-widgets/controls",
            "_model_module_version": "1.5.0",
            "_model_name": "DescriptionStyleModel",
            "_view_count": null,
            "_view_module": "@jupyter-widgets/base",
            "_view_module_version": "1.2.0",
            "_view_name": "StyleView",
            "description_width": ""
          }
        },
        "2e68c44d089b44b5982109fcfd555add": {
          "model_module": "@jupyter-widgets/controls",
          "model_name": "HBoxModel",
          "model_module_version": "1.5.0",
          "state": {
            "_dom_classes": [],
            "_model_module": "@jupyter-widgets/controls",
            "_model_module_version": "1.5.0",
            "_model_name": "HBoxModel",
            "_view_count": null,
            "_view_module": "@jupyter-widgets/controls",
            "_view_module_version": "1.5.0",
            "_view_name": "HBoxView",
            "box_style": "",
            "children": [
              "IPY_MODEL_368453139a1f418591fd561551301ec8",
              "IPY_MODEL_d66f226a38204667846000889900a543",
              "IPY_MODEL_2f9519448d984bb7900849806af56094"
            ],
            "layout": "IPY_MODEL_790f5720064c4f94b60e3abeea64eec1"
          }
        },
        "368453139a1f418591fd561551301ec8": {
          "model_module": "@jupyter-widgets/controls",
          "model_name": "HTMLModel",
          "model_module_version": "1.5.0",
          "state": {
            "_dom_classes": [],
            "_model_module": "@jupyter-widgets/controls",
            "_model_module_version": "1.5.0",
            "_model_name": "HTMLModel",
            "_view_count": null,
            "_view_module": "@jupyter-widgets/controls",
            "_view_module_version": "1.5.0",
            "_view_name": "HTMLView",
            "description": "",
            "description_tooltip": null,
            "layout": "IPY_MODEL_2112f470c4704b55a80179ec978c3a3a",
            "placeholder": "​",
            "style": "IPY_MODEL_5cc614e37ba547579db4f89faf04e182",
            "value": ""
          }
        },
        "d66f226a38204667846000889900a543": {
          "model_module": "@jupyter-widgets/controls",
          "model_name": "FloatProgressModel",
          "model_module_version": "1.5.0",
          "state": {
            "_dom_classes": [],
            "_model_module": "@jupyter-widgets/controls",
            "_model_module_version": "1.5.0",
            "_model_name": "FloatProgressModel",
            "_view_count": null,
            "_view_module": "@jupyter-widgets/controls",
            "_view_module_version": "1.5.0",
            "_view_name": "ProgressView",
            "bar_style": "success",
            "description": "",
            "description_tooltip": null,
            "layout": "IPY_MODEL_6c4ecb295c904ca4a93bb820006e3f4b",
            "max": 2640397119,
            "min": 0,
            "orientation": "horizontal",
            "style": "IPY_MODEL_416bb5b8c0ff41768da828b8919a3199",
            "value": 2640397119
          }
        },
        "2f9519448d984bb7900849806af56094": {
          "model_module": "@jupyter-widgets/controls",
          "model_name": "HTMLModel",
          "model_module_version": "1.5.0",
          "state": {
            "_dom_classes": [],
            "_model_module": "@jupyter-widgets/controls",
            "_model_module_version": "1.5.0",
            "_model_name": "HTMLModel",
            "_view_count": null,
            "_view_module": "@jupyter-widgets/controls",
            "_view_module_version": "1.5.0",
            "_view_name": "HTMLView",
            "description": "",
            "description_tooltip": null,
            "layout": "IPY_MODEL_ae91f256d8ee48bcab8f34cef27ffcba",
            "placeholder": "​",
            "style": "IPY_MODEL_e8dacca9509f4d04a73694a38803fa47",
            "value": " 2640397312/? [02:11&lt;00:00, 20423317.74it/s]"
          }
        },
        "790f5720064c4f94b60e3abeea64eec1": {
          "model_module": "@jupyter-widgets/base",
          "model_name": "LayoutModel",
          "model_module_version": "1.2.0",
          "state": {
            "_model_module": "@jupyter-widgets/base",
            "_model_module_version": "1.2.0",
            "_model_name": "LayoutModel",
            "_view_count": null,
            "_view_module": "@jupyter-widgets/base",
            "_view_module_version": "1.2.0",
            "_view_name": "LayoutView",
            "align_content": null,
            "align_items": null,
            "align_self": null,
            "border": null,
            "bottom": null,
            "display": null,
            "flex": null,
            "flex_flow": null,
            "grid_area": null,
            "grid_auto_columns": null,
            "grid_auto_flow": null,
            "grid_auto_rows": null,
            "grid_column": null,
            "grid_gap": null,
            "grid_row": null,
            "grid_template_areas": null,
            "grid_template_columns": null,
            "grid_template_rows": null,
            "height": null,
            "justify_content": null,
            "justify_items": null,
            "left": null,
            "margin": null,
            "max_height": null,
            "max_width": null,
            "min_height": null,
            "min_width": null,
            "object_fit": null,
            "object_position": null,
            "order": null,
            "overflow": null,
            "overflow_x": null,
            "overflow_y": null,
            "padding": null,
            "right": null,
            "top": null,
            "visibility": null,
            "width": null
          }
        },
        "2112f470c4704b55a80179ec978c3a3a": {
          "model_module": "@jupyter-widgets/base",
          "model_name": "LayoutModel",
          "model_module_version": "1.2.0",
          "state": {
            "_model_module": "@jupyter-widgets/base",
            "_model_module_version": "1.2.0",
            "_model_name": "LayoutModel",
            "_view_count": null,
            "_view_module": "@jupyter-widgets/base",
            "_view_module_version": "1.2.0",
            "_view_name": "LayoutView",
            "align_content": null,
            "align_items": null,
            "align_self": null,
            "border": null,
            "bottom": null,
            "display": null,
            "flex": null,
            "flex_flow": null,
            "grid_area": null,
            "grid_auto_columns": null,
            "grid_auto_flow": null,
            "grid_auto_rows": null,
            "grid_column": null,
            "grid_gap": null,
            "grid_row": null,
            "grid_template_areas": null,
            "grid_template_columns": null,
            "grid_template_rows": null,
            "height": null,
            "justify_content": null,
            "justify_items": null,
            "left": null,
            "margin": null,
            "max_height": null,
            "max_width": null,
            "min_height": null,
            "min_width": null,
            "object_fit": null,
            "object_position": null,
            "order": null,
            "overflow": null,
            "overflow_x": null,
            "overflow_y": null,
            "padding": null,
            "right": null,
            "top": null,
            "visibility": null,
            "width": null
          }
        },
        "5cc614e37ba547579db4f89faf04e182": {
          "model_module": "@jupyter-widgets/controls",
          "model_name": "DescriptionStyleModel",
          "model_module_version": "1.5.0",
          "state": {
            "_model_module": "@jupyter-widgets/controls",
            "_model_module_version": "1.5.0",
            "_model_name": "DescriptionStyleModel",
            "_view_count": null,
            "_view_module": "@jupyter-widgets/base",
            "_view_module_version": "1.2.0",
            "_view_name": "StyleView",
            "description_width": ""
          }
        },
        "6c4ecb295c904ca4a93bb820006e3f4b": {
          "model_module": "@jupyter-widgets/base",
          "model_name": "LayoutModel",
          "model_module_version": "1.2.0",
          "state": {
            "_model_module": "@jupyter-widgets/base",
            "_model_module_version": "1.2.0",
            "_model_name": "LayoutModel",
            "_view_count": null,
            "_view_module": "@jupyter-widgets/base",
            "_view_module_version": "1.2.0",
            "_view_name": "LayoutView",
            "align_content": null,
            "align_items": null,
            "align_self": null,
            "border": null,
            "bottom": null,
            "display": null,
            "flex": null,
            "flex_flow": null,
            "grid_area": null,
            "grid_auto_columns": null,
            "grid_auto_flow": null,
            "grid_auto_rows": null,
            "grid_column": null,
            "grid_gap": null,
            "grid_row": null,
            "grid_template_areas": null,
            "grid_template_columns": null,
            "grid_template_rows": null,
            "height": null,
            "justify_content": null,
            "justify_items": null,
            "left": null,
            "margin": null,
            "max_height": null,
            "max_width": null,
            "min_height": null,
            "min_width": null,
            "object_fit": null,
            "object_position": null,
            "order": null,
            "overflow": null,
            "overflow_x": null,
            "overflow_y": null,
            "padding": null,
            "right": null,
            "top": null,
            "visibility": null,
            "width": null
          }
        },
        "416bb5b8c0ff41768da828b8919a3199": {
          "model_module": "@jupyter-widgets/controls",
          "model_name": "ProgressStyleModel",
          "model_module_version": "1.5.0",
          "state": {
            "_model_module": "@jupyter-widgets/controls",
            "_model_module_version": "1.5.0",
            "_model_name": "ProgressStyleModel",
            "_view_count": null,
            "_view_module": "@jupyter-widgets/base",
            "_view_module_version": "1.2.0",
            "_view_name": "StyleView",
            "bar_color": null,
            "description_width": ""
          }
        },
        "ae91f256d8ee48bcab8f34cef27ffcba": {
          "model_module": "@jupyter-widgets/base",
          "model_name": "LayoutModel",
          "model_module_version": "1.2.0",
          "state": {
            "_model_module": "@jupyter-widgets/base",
            "_model_module_version": "1.2.0",
            "_model_name": "LayoutModel",
            "_view_count": null,
            "_view_module": "@jupyter-widgets/base",
            "_view_module_version": "1.2.0",
            "_view_name": "LayoutView",
            "align_content": null,
            "align_items": null,
            "align_self": null,
            "border": null,
            "bottom": null,
            "display": null,
            "flex": null,
            "flex_flow": null,
            "grid_area": null,
            "grid_auto_columns": null,
            "grid_auto_flow": null,
            "grid_auto_rows": null,
            "grid_column": null,
            "grid_gap": null,
            "grid_row": null,
            "grid_template_areas": null,
            "grid_template_columns": null,
            "grid_template_rows": null,
            "height": null,
            "justify_content": null,
            "justify_items": null,
            "left": null,
            "margin": null,
            "max_height": null,
            "max_width": null,
            "min_height": null,
            "min_width": null,
            "object_fit": null,
            "object_position": null,
            "order": null,
            "overflow": null,
            "overflow_x": null,
            "overflow_y": null,
            "padding": null,
            "right": null,
            "top": null,
            "visibility": null,
            "width": null
          }
        },
        "e8dacca9509f4d04a73694a38803fa47": {
          "model_module": "@jupyter-widgets/controls",
          "model_name": "DescriptionStyleModel",
          "model_module_version": "1.5.0",
          "state": {
            "_model_module": "@jupyter-widgets/controls",
            "_model_module_version": "1.5.0",
            "_model_name": "DescriptionStyleModel",
            "_view_count": null,
            "_view_module": "@jupyter-widgets/base",
            "_view_module_version": "1.2.0",
            "_view_name": "StyleView",
            "description_width": ""
          }
        }
      }
    }
  },
  "cells": [
    {
      "cell_type": "code",
      "execution_count": 1,
      "metadata": {
        "id": "G_3Bgt9OKTa7"
      },
      "outputs": [],
      "source": [
        "import numpy as np\n",
        "import pandas as pd\n",
        "from sklearn.preprocessing import LabelEncoder\n",
        "\n",
        "from tqdm import tqdm\n",
        "from glob import glob\n",
        "from PIL import Image\n",
        "\n",
        "import torch\n",
        "import torch.nn as nn\n",
        "import torchvision\n",
        "import torchvision.transforms as transforms\n",
        "from torchsummary import summary"
      ]
    },
    {
      "cell_type": "code",
      "source": [
        "device = 'cuda' if torch.cuda.is_available() else 'cpu'"
      ],
      "metadata": {
        "id": "A3zgNItNezQ7"
      },
      "execution_count": 2,
      "outputs": []
    },
    {
      "cell_type": "code",
      "source": [
        "# Hyperparameter\n",
        "BATCH_SIZE = 64\n",
        "LR = 1e-3        # 논문에서는 1e-2\n",
        "EPOCHS = 20      # 논문에서는 74"
      ],
      "metadata": {
        "id": "zSuSvpV6nxVJ"
      },
      "execution_count": 3,
      "outputs": []
    },
    {
      "cell_type": "code",
      "source": [
        "stl_train = torchvision.datasets.STL10(root='./stl_train/',\n",
        "                                       split=\"train\",\n",
        "                                       download=True)\n",
        "\n",
        "stl_test = torchvision.datasets.STL10(root='./stl_test/',\n",
        "                                      split='test',\n",
        "                                      download=True)"
      ],
      "metadata": {
        "colab": {
          "base_uri": "https://localhost:8080/",
          "height": 174,
          "referenced_widgets": [
            "4b30519f36504ae8b7856f8d01031262",
            "d8cacb3ebe81488f9ce373c32c47d984",
            "1f8b053046f847a895a5aca30c252f81",
            "661082d744b04f11b3605a2d2d047899",
            "936334286b5743c2aafa1a82af155f38",
            "b38c3238a77b42fba09a4399dd6d80b9",
            "a7fb79b794d8463eabc4f700ac621b6b",
            "e5a9f35e85b04dcebf94760b3a224e30",
            "b426b15ca7db4fe7bb5fff39740fff9c",
            "9feec28b4d914646963f9a2022140d48",
            "1d05d9c535e248e98fc2e2e49d2eca24",
            "2e68c44d089b44b5982109fcfd555add",
            "368453139a1f418591fd561551301ec8",
            "d66f226a38204667846000889900a543",
            "2f9519448d984bb7900849806af56094",
            "790f5720064c4f94b60e3abeea64eec1",
            "2112f470c4704b55a80179ec978c3a3a",
            "5cc614e37ba547579db4f89faf04e182",
            "6c4ecb295c904ca4a93bb820006e3f4b",
            "416bb5b8c0ff41768da828b8919a3199",
            "ae91f256d8ee48bcab8f34cef27ffcba",
            "e8dacca9509f4d04a73694a38803fa47"
          ]
        },
        "id": "dBb_OrQ3i7H7",
        "outputId": "8111fb4e-a5e8-4ef5-a8ba-736a8d337441"
      },
      "execution_count": 4,
      "outputs": [
        {
          "output_type": "stream",
          "name": "stdout",
          "text": [
            "Downloading http://ai.stanford.edu/~acoates/stl10/stl10_binary.tar.gz to ./stl_train/stl10_binary.tar.gz\n"
          ]
        },
        {
          "output_type": "display_data",
          "data": {
            "text/plain": [
              "  0%|          | 0/2640397119 [00:00<?, ?it/s]"
            ],
            "application/vnd.jupyter.widget-view+json": {
              "version_major": 2,
              "version_minor": 0,
              "model_id": "4b30519f36504ae8b7856f8d01031262"
            }
          },
          "metadata": {}
        },
        {
          "output_type": "stream",
          "name": "stdout",
          "text": [
            "Extracting ./stl_train/stl10_binary.tar.gz to ./stl_train/\n",
            "Downloading http://ai.stanford.edu/~acoates/stl10/stl10_binary.tar.gz to ./stl_test/stl10_binary.tar.gz\n"
          ]
        },
        {
          "output_type": "display_data",
          "data": {
            "text/plain": [
              "  0%|          | 0/2640397119 [00:00<?, ?it/s]"
            ],
            "application/vnd.jupyter.widget-view+json": {
              "version_major": 2,
              "version_minor": 0,
              "model_id": "2e68c44d089b44b5982109fcfd555add"
            }
          },
          "metadata": {}
        },
        {
          "output_type": "stream",
          "name": "stdout",
          "text": [
            "Extracting ./stl_test/stl10_binary.tar.gz to ./stl_test/\n"
          ]
        }
      ]
    },
    {
      "cell_type": "code",
      "source": [
        "trainLoader = torch.utils.data.DataLoader(stl_train,\n",
        "                                          batch_size=BATCH_SIZE,\n",
        "                                          shuffle=True)\n",
        "\n",
        "valLoader = torch.utils.data.DataLoader(stl_test,\n",
        "                                        batch_size=BATCH_SIZE,\n",
        "                                        shuffle=False)"
      ],
      "metadata": {
        "id": "akgBp6iZjiU7"
      },
      "execution_count": 14,
      "outputs": []
    },
    {
      "cell_type": "code",
      "source": [
        "train_transform = transforms.Compose([transforms.ToTensor(),\n",
        "                                      transforms.Resize((256, 256)),\n",
        "                                      transforms.RandomCrop((224, 224)),\n",
        "                                      transforms.RandomHorizontalFlip()\n",
        "                                     ])\n",
        "\n",
        "test_transform = transforms.Compose([transforms.ToTensor(),\n",
        "                                     transforms.Resize((224, 224)),\n",
        "                                    ])"
      ],
      "metadata": {
        "id": "_8t7I8HzlHHh"
      },
      "execution_count": 15,
      "outputs": []
    },
    {
      "cell_type": "code",
      "source": [
        "stl_train.transform = train_transform\n",
        "stl_test.transform = test_transform"
      ],
      "metadata": {
        "id": "PwnSXurSk_42"
      },
      "execution_count": 16,
      "outputs": []
    },
    {
      "cell_type": "code",
      "source": [
        "class VGG16(nn.Module):\n",
        "    def __init__(self):\n",
        "        super(VGG16, self).__init__()\n",
        "\n",
        "        self.conv_block = nn.Sequential(nn.Conv2d(3, 64, kernel_size=3, stride=1, padding=1),\n",
        "                                        nn.ReLU(),\n",
        "                                        nn.Conv2d(64, 64, kernel_size=3, stride=1, padding=1),\n",
        "                                        nn.ReLU(),\n",
        "                                        nn.MaxPool2d(kernel_size=2, stride=2),\n",
        "                                        nn.Conv2d(64, 128, kernel_size=3, stride=1, padding=1),\n",
        "                                        nn.ReLU(),\n",
        "                                        nn.Conv2d(128, 128, kernel_size=3, stride=1, padding=1),\n",
        "                                        nn.ReLU(),\n",
        "                                        nn.MaxPool2d(kernel_size=2, stride=2),\n",
        "                                        nn.Conv2d(128, 256, kernel_size=3, stride=1, padding=1),\n",
        "                                        nn.ReLU(),\n",
        "                                        nn.Conv2d(256, 256, kernel_size=3, stride=1, padding=1),\n",
        "                                        nn.ReLU(),\n",
        "                                        nn.Conv2d(256, 256, kernel_size=1, stride=1, padding=1),\n",
        "                                        nn.ReLU(),\n",
        "                                        nn.MaxPool2d(kernel_size=2, stride=2),\n",
        "                                        nn.Conv2d(256, 512, kernel_size=3, stride=1, padding=1),\n",
        "                                        nn.ReLU(),\n",
        "                                        nn.Conv2d(512, 512, kernel_size=3, stride=1, padding=1),\n",
        "                                        nn.ReLU(),\n",
        "                                        nn.Conv2d(512, 512, kernel_size=1, stride=1, padding=1),\n",
        "                                        nn.ReLU(),\n",
        "                                        nn.MaxPool2d(kernel_size=2, stride=2),\n",
        "                                        nn.Conv2d(512, 512, kernel_size=3, stride=1, padding=1),\n",
        "                                        nn.ReLU(),\n",
        "                                        nn.Conv2d(512, 512, kernel_size=3, stride=1, padding=1),\n",
        "                                        nn.ReLU(),\n",
        "                                        nn.Conv2d(512, 512, kernel_size=1, stride=1, padding=1),\n",
        "                                        nn.ReLU(),\n",
        "                                        nn.MaxPool2d(kernel_size=2, stride=2)\n",
        "                                        )\n",
        "        \n",
        "        self.classifier = nn.Sequential(nn.Linear(32768, 4096),\n",
        "                                        nn.Dropout(p=0.5),\n",
        "                                        nn.Linear(4096, 4096),\n",
        "                                        nn.Dropout(p=0.5),\n",
        "                                        nn.Linear(4096, 10)\n",
        "                                        )\n",
        "        \n",
        "        for block in [self.conv_block, self.classifier]:\n",
        "            for layer in block:\n",
        "                if isinstance(layer, nn.Conv2d) or isinstance(layer, nn.Linear):\n",
        "                    nn.init.normal_(layer.weight, mean=0, std=0.1)\n",
        "        \n",
        "\n",
        "    def forward(self, x):\n",
        "        x = self.conv_block(x)\n",
        "        x = x.flatten(start_dim=1)\n",
        "        out = self.classifier(x)\n",
        "        return out"
      ],
      "metadata": {
        "id": "sQxzSAD_Ms8d"
      },
      "execution_count": 17,
      "outputs": []
    },
    {
      "cell_type": "code",
      "source": [
        "def train_loop(model, Loader):\n",
        "    train_loss = 0\n",
        "    train_acc = 0\n",
        "    model.train()\n",
        "    for data, target in tqdm(Loader):\n",
        "        data, target = data.to(device), target.to(device)\n",
        "        output = model(data)\n",
        "        loss = loss_fn(output, target)\n",
        "\n",
        "        optimizer.zero_grad()\n",
        "        loss.backward()\n",
        "        optimizer.step()\n",
        "\n",
        "        train_loss += loss.item()\n",
        "        train_acc += (torch.argmax(output, dim=1) == target).sum().item()\n",
        "    return train_loss / len(Loader), train_acc / len(Loader.dataset)"
      ],
      "metadata": {
        "id": "q5Q1FzeRcVet"
      },
      "execution_count": 18,
      "outputs": []
    },
    {
      "cell_type": "code",
      "source": [
        "def val_loop(model, Loader):\n",
        "    val_loss = 0\n",
        "    val_acc = 0\n",
        "    model.eval()\n",
        "    with torch.no_grad():\n",
        "        for data, target in tqdm(Loader):\n",
        "            data, target = data.to(device), target.to(device)\n",
        "            output = model(data)\n",
        "            loss = loss_fn(output, target)\n",
        "\n",
        "            val_loss += loss.item()\n",
        "            val_acc += (torch.argmax(output, dim=1) == target).sum().item()\n",
        "    return val_loss / len(Loader), val_acc / len(Loader.dataset)"
      ],
      "metadata": {
        "id": "mXdkNhmNeiqj"
      },
      "execution_count": 19,
      "outputs": []
    },
    {
      "cell_type": "code",
      "source": [
        "model = VGG16().to(device)\n",
        "\n",
        "optimizer = torch.optim.Adam(model.parameters(), lr=LR)\n",
        "loss_fn = nn.CrossEntropyLoss()\n",
        " # scheduler = torch.optim.lr_scheduler.StepLR(optimizer, step_size=20, gamma=0.1)"
      ],
      "metadata": {
        "id": "Hen58Vse1Wa8"
      },
      "execution_count": 20,
      "outputs": []
    },
    {
      "cell_type": "code",
      "source": [
        "summary(model, (3, 224, 224), device=device)"
      ],
      "metadata": {
        "colab": {
          "base_uri": "https://localhost:8080/"
        },
        "id": "1gQX_XZWofM4",
        "outputId": "8848538e-a204-4f42-a859-ecb697671256"
      },
      "execution_count": 21,
      "outputs": [
        {
          "output_type": "stream",
          "name": "stdout",
          "text": [
            "----------------------------------------------------------------\n",
            "        Layer (type)               Output Shape         Param #\n",
            "================================================================\n",
            "            Conv2d-1         [-1, 64, 224, 224]           1,792\n",
            "              ReLU-2         [-1, 64, 224, 224]               0\n",
            "            Conv2d-3         [-1, 64, 224, 224]          36,928\n",
            "              ReLU-4         [-1, 64, 224, 224]               0\n",
            "         MaxPool2d-5         [-1, 64, 112, 112]               0\n",
            "            Conv2d-6        [-1, 128, 112, 112]          73,856\n",
            "              ReLU-7        [-1, 128, 112, 112]               0\n",
            "            Conv2d-8        [-1, 128, 112, 112]         147,584\n",
            "              ReLU-9        [-1, 128, 112, 112]               0\n",
            "        MaxPool2d-10          [-1, 128, 56, 56]               0\n",
            "           Conv2d-11          [-1, 256, 56, 56]         295,168\n",
            "             ReLU-12          [-1, 256, 56, 56]               0\n",
            "           Conv2d-13          [-1, 256, 56, 56]         590,080\n",
            "             ReLU-14          [-1, 256, 56, 56]               0\n",
            "           Conv2d-15          [-1, 256, 58, 58]          65,792\n",
            "             ReLU-16          [-1, 256, 58, 58]               0\n",
            "        MaxPool2d-17          [-1, 256, 29, 29]               0\n",
            "           Conv2d-18          [-1, 512, 29, 29]       1,180,160\n",
            "             ReLU-19          [-1, 512, 29, 29]               0\n",
            "           Conv2d-20          [-1, 512, 29, 29]       2,359,808\n",
            "             ReLU-21          [-1, 512, 29, 29]               0\n",
            "           Conv2d-22          [-1, 512, 31, 31]         262,656\n",
            "             ReLU-23          [-1, 512, 31, 31]               0\n",
            "        MaxPool2d-24          [-1, 512, 15, 15]               0\n",
            "           Conv2d-25          [-1, 512, 15, 15]       2,359,808\n",
            "             ReLU-26          [-1, 512, 15, 15]               0\n",
            "           Conv2d-27          [-1, 512, 15, 15]       2,359,808\n",
            "             ReLU-28          [-1, 512, 15, 15]               0\n",
            "           Conv2d-29          [-1, 512, 17, 17]         262,656\n",
            "             ReLU-30          [-1, 512, 17, 17]               0\n",
            "        MaxPool2d-31            [-1, 512, 8, 8]               0\n",
            "           Linear-32                 [-1, 4096]     134,221,824\n",
            "          Dropout-33                 [-1, 4096]               0\n",
            "           Linear-34                 [-1, 4096]      16,781,312\n",
            "          Dropout-35                 [-1, 4096]               0\n",
            "           Linear-36                   [-1, 10]          40,970\n",
            "================================================================\n",
            "Total params: 161,040,202\n",
            "Trainable params: 161,040,202\n",
            "Non-trainable params: 0\n",
            "----------------------------------------------------------------\n",
            "Input size (MB): 0.57\n",
            "Forward/backward pass size (MB): 223.15\n",
            "Params size (MB): 614.32\n",
            "Estimated Total Size (MB): 838.04\n",
            "----------------------------------------------------------------\n"
          ]
        }
      ]
    },
    {
      "cell_type": "code",
      "source": [
        "for epoch in range(1, EPOCHS+1):\n",
        "    train_loss, train_acc = train_loop(model, trainLoader)\n",
        "    val_loss, val_acc = val_loop(model, valLoader)\n",
        "\n",
        "    print(f'\\n[[  Epoch {epoch:2d} / {EPOCHS}  ]]\\n')\n",
        "    print(f'Train | Loss {train_loss:.4f}, Accuracy : {train_acc*100:.2f} %')\n",
        "    print(f'Valid | Loss {val_loss:.4f}, Accuracy : {val_acc*100:.2f} %\\n')\n",
        "\n",
        "    # scheduler.step()"
      ],
      "metadata": {
        "colab": {
          "base_uri": "https://localhost:8080/"
        },
        "id": "o9kh0xhciP8n",
        "outputId": "5dea3bc7-fc5d-4e12-c5fa-110e8be1dd3d"
      },
      "execution_count": 22,
      "outputs": [
        {
          "output_type": "stream",
          "name": "stderr",
          "text": [
            "100%|██████████| 79/79 [02:38<00:00,  2.00s/it]\n",
            "100%|██████████| 125/125 [01:24<00:00,  1.48it/s]\n"
          ]
        },
        {
          "output_type": "stream",
          "name": "stdout",
          "text": [
            "[[  Epoch  1 / 20  ]]\n",
            "\n",
            "Train | Loss 2076942.9813, Accuracy : 15.16 %\n",
            "Valid | Loss 1939.9749, Accuracy : 23.40 %\n",
            "\n"
          ]
        },
        {
          "output_type": "stream",
          "name": "stderr",
          "text": [
            "100%|██████████| 79/79 [02:37<00:00,  1.99s/it]\n",
            "100%|██████████| 125/125 [01:24<00:00,  1.48it/s]\n"
          ]
        },
        {
          "output_type": "stream",
          "name": "stdout",
          "text": [
            "[[  Epoch  2 / 20  ]]\n",
            "\n",
            "Train | Loss 1958.2627, Accuracy : 19.12 %\n",
            "Valid | Loss 553.2977, Accuracy : 23.15 %\n",
            "\n"
          ]
        },
        {
          "output_type": "stream",
          "name": "stderr",
          "text": [
            "100%|██████████| 79/79 [02:36<00:00,  1.98s/it]\n",
            "100%|██████████| 125/125 [01:24<00:00,  1.48it/s]\n"
          ]
        },
        {
          "output_type": "stream",
          "name": "stdout",
          "text": [
            "[[  Epoch  3 / 20  ]]\n",
            "\n",
            "Train | Loss 707.4192, Accuracy : 17.60 %\n",
            "Valid | Loss 222.4396, Accuracy : 22.80 %\n",
            "\n"
          ]
        },
        {
          "output_type": "stream",
          "name": "stderr",
          "text": [
            "100%|██████████| 79/79 [02:36<00:00,  1.98s/it]\n",
            "100%|██████████| 125/125 [01:24<00:00,  1.48it/s]\n"
          ]
        },
        {
          "output_type": "stream",
          "name": "stdout",
          "text": [
            "[[  Epoch  4 / 20  ]]\n",
            "\n",
            "Train | Loss 250.8918, Accuracy : 16.34 %\n",
            "Valid | Loss 88.1106, Accuracy : 18.95 %\n",
            "\n"
          ]
        },
        {
          "output_type": "stream",
          "name": "stderr",
          "text": [
            "100%|██████████| 79/79 [02:36<00:00,  1.98s/it]\n",
            "100%|██████████| 125/125 [01:24<00:00,  1.48it/s]\n"
          ]
        },
        {
          "output_type": "stream",
          "name": "stdout",
          "text": [
            "[[  Epoch  5 / 20  ]]\n",
            "\n",
            "Train | Loss 97.1561, Accuracy : 14.30 %\n",
            "Valid | Loss 33.1705, Accuracy : 15.68 %\n",
            "\n"
          ]
        },
        {
          "output_type": "stream",
          "name": "stderr",
          "text": [
            "100%|██████████| 79/79 [02:35<00:00,  1.97s/it]\n",
            "100%|██████████| 125/125 [01:24<00:00,  1.48it/s]\n"
          ]
        },
        {
          "output_type": "stream",
          "name": "stdout",
          "text": [
            "[[  Epoch  6 / 20  ]]\n",
            "\n",
            "Train | Loss 33.2856, Accuracy : 11.20 %\n",
            "Valid | Loss 12.3107, Accuracy : 13.54 %\n",
            "\n"
          ]
        },
        {
          "output_type": "stream",
          "name": "stderr",
          "text": [
            "100%|██████████| 79/79 [02:33<00:00,  1.95s/it]\n",
            "100%|██████████| 125/125 [01:24<00:00,  1.48it/s]\n"
          ]
        },
        {
          "output_type": "stream",
          "name": "stdout",
          "text": [
            "[[  Epoch  7 / 20  ]]\n",
            "\n",
            "Train | Loss 12.1991, Accuracy : 10.60 %\n",
            "Valid | Loss 6.1039, Accuracy : 12.34 %\n",
            "\n"
          ]
        },
        {
          "output_type": "stream",
          "name": "stderr",
          "text": [
            "100%|██████████| 79/79 [02:33<00:00,  1.94s/it]\n",
            "100%|██████████| 125/125 [01:24<00:00,  1.47it/s]\n"
          ]
        },
        {
          "output_type": "stream",
          "name": "stdout",
          "text": [
            "[[  Epoch  8 / 20  ]]\n",
            "\n",
            "Train | Loss 6.2817, Accuracy : 10.42 %\n",
            "Valid | Loss 4.2669, Accuracy : 11.19 %\n",
            "\n"
          ]
        },
        {
          "output_type": "stream",
          "name": "stderr",
          "text": [
            "100%|██████████| 79/79 [02:33<00:00,  1.94s/it]\n",
            "100%|██████████| 125/125 [01:24<00:00,  1.48it/s]\n"
          ]
        },
        {
          "output_type": "stream",
          "name": "stdout",
          "text": [
            "[[  Epoch  9 / 20  ]]\n",
            "\n",
            "Train | Loss 4.3650, Accuracy : 9.62 %\n",
            "Valid | Loss 3.4949, Accuracy : 10.09 %\n",
            "\n"
          ]
        },
        {
          "output_type": "stream",
          "name": "stderr",
          "text": [
            "100%|██████████| 79/79 [02:33<00:00,  1.94s/it]\n",
            "100%|██████████| 125/125 [01:24<00:00,  1.49it/s]\n"
          ]
        },
        {
          "output_type": "stream",
          "name": "stdout",
          "text": [
            "[[  Epoch 10 / 20  ]]\n",
            "\n",
            "Train | Loss 3.6435, Accuracy : 9.96 %\n",
            "Valid | Loss 3.3163, Accuracy : 10.53 %\n",
            "\n"
          ]
        },
        {
          "output_type": "stream",
          "name": "stderr",
          "text": [
            "100%|██████████| 79/79 [02:33<00:00,  1.94s/it]\n",
            "100%|██████████| 125/125 [01:24<00:00,  1.48it/s]\n"
          ]
        },
        {
          "output_type": "stream",
          "name": "stdout",
          "text": [
            "[[  Epoch 11 / 20  ]]\n",
            "\n",
            "Train | Loss 2.9976, Accuracy : 10.32 %\n",
            "Valid | Loss 2.9937, Accuracy : 10.57 %\n",
            "\n"
          ]
        },
        {
          "output_type": "stream",
          "name": "stderr",
          "text": [
            "100%|██████████| 79/79 [02:33<00:00,  1.94s/it]\n",
            "100%|██████████| 125/125 [01:24<00:00,  1.48it/s]\n"
          ]
        },
        {
          "output_type": "stream",
          "name": "stdout",
          "text": [
            "[[  Epoch 12 / 20  ]]\n",
            "\n",
            "Train | Loss 3.0395, Accuracy : 9.54 %\n",
            "Valid | Loss 2.9087, Accuracy : 9.99 %\n",
            "\n"
          ]
        },
        {
          "output_type": "stream",
          "name": "stderr",
          "text": [
            "100%|██████████| 79/79 [02:33<00:00,  1.94s/it]\n",
            "100%|██████████| 125/125 [01:24<00:00,  1.47it/s]\n"
          ]
        },
        {
          "output_type": "stream",
          "name": "stdout",
          "text": [
            "[[  Epoch 13 / 20  ]]\n",
            "\n",
            "Train | Loss 2.8559, Accuracy : 10.42 %\n",
            "Valid | Loss 2.8265, Accuracy : 10.15 %\n",
            "\n"
          ]
        },
        {
          "output_type": "stream",
          "name": "stderr",
          "text": [
            "100%|██████████| 79/79 [02:33<00:00,  1.94s/it]\n",
            "100%|██████████| 125/125 [01:24<00:00,  1.48it/s]\n"
          ]
        },
        {
          "output_type": "stream",
          "name": "stdout",
          "text": [
            "[[  Epoch 14 / 20  ]]\n",
            "\n",
            "Train | Loss 2.8783, Accuracy : 9.68 %\n",
            "Valid | Loss 2.6946, Accuracy : 10.03 %\n",
            "\n"
          ]
        },
        {
          "output_type": "stream",
          "name": "stderr",
          "text": [
            "100%|██████████| 79/79 [02:33<00:00,  1.94s/it]\n",
            "100%|██████████| 125/125 [01:24<00:00,  1.49it/s]\n"
          ]
        },
        {
          "output_type": "stream",
          "name": "stdout",
          "text": [
            "[[  Epoch 15 / 20  ]]\n",
            "\n",
            "Train | Loss 2.6606, Accuracy : 10.24 %\n",
            "Valid | Loss 2.6387, Accuracy : 9.99 %\n",
            "\n"
          ]
        },
        {
          "output_type": "stream",
          "name": "stderr",
          "text": [
            "100%|██████████| 79/79 [02:33<00:00,  1.94s/it]\n",
            "100%|██████████| 125/125 [01:23<00:00,  1.49it/s]\n"
          ]
        },
        {
          "output_type": "stream",
          "name": "stdout",
          "text": [
            "[[  Epoch 16 / 20  ]]\n",
            "\n",
            "Train | Loss 2.7274, Accuracy : 10.64 %\n",
            "Valid | Loss 2.6064, Accuracy : 9.89 %\n",
            "\n"
          ]
        },
        {
          "output_type": "stream",
          "name": "stderr",
          "text": [
            "100%|██████████| 79/79 [02:33<00:00,  1.94s/it]\n",
            "100%|██████████| 125/125 [01:24<00:00,  1.48it/s]\n"
          ]
        },
        {
          "output_type": "stream",
          "name": "stdout",
          "text": [
            "[[  Epoch 17 / 20  ]]\n",
            "\n",
            "Train | Loss 2.6845, Accuracy : 10.06 %\n",
            "Valid | Loss 2.5634, Accuracy : 10.03 %\n",
            "\n"
          ]
        },
        {
          "output_type": "stream",
          "name": "stderr",
          "text": [
            "100%|██████████| 79/79 [02:33<00:00,  1.94s/it]\n",
            "100%|██████████| 125/125 [01:24<00:00,  1.48it/s]\n"
          ]
        },
        {
          "output_type": "stream",
          "name": "stdout",
          "text": [
            "[[  Epoch 18 / 20  ]]\n",
            "\n",
            "Train | Loss 2.6084, Accuracy : 9.62 %\n",
            "Valid | Loss 2.5391, Accuracy : 10.05 %\n",
            "\n"
          ]
        },
        {
          "output_type": "stream",
          "name": "stderr",
          "text": [
            "100%|██████████| 79/79 [02:33<00:00,  1.94s/it]\n",
            "100%|██████████| 125/125 [01:24<00:00,  1.48it/s]\n"
          ]
        },
        {
          "output_type": "stream",
          "name": "stdout",
          "text": [
            "[[  Epoch 19 / 20  ]]\n",
            "\n",
            "Train | Loss 2.6605, Accuracy : 10.26 %\n",
            "Valid | Loss 2.5116, Accuracy : 10.05 %\n",
            "\n"
          ]
        },
        {
          "output_type": "stream",
          "name": "stderr",
          "text": [
            "100%|██████████| 79/79 [02:33<00:00,  1.94s/it]\n",
            "100%|██████████| 125/125 [01:24<00:00,  1.49it/s]"
          ]
        },
        {
          "output_type": "stream",
          "name": "stdout",
          "text": [
            "[[  Epoch 20 / 20  ]]\n",
            "\n",
            "Train | Loss 2.5957, Accuracy : 9.70 %\n",
            "Valid | Loss 2.5049, Accuracy : 9.93 %\n",
            "\n"
          ]
        },
        {
          "output_type": "stream",
          "name": "stderr",
          "text": [
            "\n"
          ]
        }
      ]
    }
  ]
}