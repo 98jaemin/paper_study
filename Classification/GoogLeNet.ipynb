{
  "nbformat": 4,
  "nbformat_minor": 0,
  "metadata": {
    "colab": {
      "name": "GoogLeNet.ipynb",
      "provenance": [],
      "collapsed_sections": []
    },
    "kernelspec": {
      "name": "python3",
      "display_name": "Python 3"
    },
    "language_info": {
      "name": "python"
    },
    "accelerator": "GPU",
    "widgets": {
      "application/vnd.jupyter.widget-state+json": {
        "93e67d62133f4567b9b14eba15025ea3": {
          "model_module": "@jupyter-widgets/controls",
          "model_name": "HBoxModel",
          "model_module_version": "1.5.0",
          "state": {
            "_view_name": "HBoxView",
            "_dom_classes": [],
            "_model_name": "HBoxModel",
            "_view_module": "@jupyter-widgets/controls",
            "_model_module_version": "1.5.0",
            "_view_count": null,
            "_view_module_version": "1.5.0",
            "box_style": "",
            "layout": "IPY_MODEL_8cd7e220244d43a484fc7a4949ff9993",
            "_model_module": "@jupyter-widgets/controls",
            "children": [
              "IPY_MODEL_8c8284f6a37047cfaef6220b7db03336",
              "IPY_MODEL_987a18e5a1814ccbb6114149f3a98ecd",
              "IPY_MODEL_8120d66c6baf4bd9a53946801dcaaf88"
            ]
          }
        },
        "8cd7e220244d43a484fc7a4949ff9993": {
          "model_module": "@jupyter-widgets/base",
          "model_name": "LayoutModel",
          "model_module_version": "1.2.0",
          "state": {
            "_view_name": "LayoutView",
            "grid_template_rows": null,
            "right": null,
            "justify_content": null,
            "_view_module": "@jupyter-widgets/base",
            "overflow": null,
            "_model_module_version": "1.2.0",
            "_view_count": null,
            "flex_flow": null,
            "width": null,
            "min_width": null,
            "border": null,
            "align_items": null,
            "bottom": null,
            "_model_module": "@jupyter-widgets/base",
            "top": null,
            "grid_column": null,
            "overflow_y": null,
            "overflow_x": null,
            "grid_auto_flow": null,
            "grid_area": null,
            "grid_template_columns": null,
            "flex": null,
            "_model_name": "LayoutModel",
            "justify_items": null,
            "grid_row": null,
            "max_height": null,
            "align_content": null,
            "visibility": null,
            "align_self": null,
            "height": null,
            "min_height": null,
            "padding": null,
            "grid_auto_rows": null,
            "grid_gap": null,
            "max_width": null,
            "order": null,
            "_view_module_version": "1.2.0",
            "grid_template_areas": null,
            "object_position": null,
            "object_fit": null,
            "grid_auto_columns": null,
            "margin": null,
            "display": null,
            "left": null
          }
        },
        "8c8284f6a37047cfaef6220b7db03336": {
          "model_module": "@jupyter-widgets/controls",
          "model_name": "HTMLModel",
          "model_module_version": "1.5.0",
          "state": {
            "_view_name": "HTMLView",
            "style": "IPY_MODEL_85040528cbbf4dae8d20a86551fea2c6",
            "_dom_classes": [],
            "description": "",
            "_model_name": "HTMLModel",
            "placeholder": "​",
            "_view_module": "@jupyter-widgets/controls",
            "_model_module_version": "1.5.0",
            "value": "",
            "_view_count": null,
            "_view_module_version": "1.5.0",
            "description_tooltip": null,
            "_model_module": "@jupyter-widgets/controls",
            "layout": "IPY_MODEL_a969342124e24622bc6d3a47ae7e4558"
          }
        },
        "987a18e5a1814ccbb6114149f3a98ecd": {
          "model_module": "@jupyter-widgets/controls",
          "model_name": "FloatProgressModel",
          "model_module_version": "1.5.0",
          "state": {
            "_view_name": "ProgressView",
            "style": "IPY_MODEL_8cc29b4e1b314db0bc2e20982baea47a",
            "_dom_classes": [],
            "description": "",
            "_model_name": "FloatProgressModel",
            "bar_style": "success",
            "max": 2640397119,
            "_view_module": "@jupyter-widgets/controls",
            "_model_module_version": "1.5.0",
            "value": 2640397119,
            "_view_count": null,
            "_view_module_version": "1.5.0",
            "orientation": "horizontal",
            "min": 0,
            "description_tooltip": null,
            "_model_module": "@jupyter-widgets/controls",
            "layout": "IPY_MODEL_7b8a382a03474e0bb99f0e4e128d6ed1"
          }
        },
        "8120d66c6baf4bd9a53946801dcaaf88": {
          "model_module": "@jupyter-widgets/controls",
          "model_name": "HTMLModel",
          "model_module_version": "1.5.0",
          "state": {
            "_view_name": "HTMLView",
            "style": "IPY_MODEL_a0b2a3f8a7dc410c88ef8408b6c03b8c",
            "_dom_classes": [],
            "description": "",
            "_model_name": "HTMLModel",
            "placeholder": "​",
            "_view_module": "@jupyter-widgets/controls",
            "_model_module_version": "1.5.0",
            "value": " 2640397312/? [09:05&lt;00:00, 18137951.91it/s]",
            "_view_count": null,
            "_view_module_version": "1.5.0",
            "description_tooltip": null,
            "_model_module": "@jupyter-widgets/controls",
            "layout": "IPY_MODEL_058f2c81163a488aa5e348ebfec222aa"
          }
        },
        "85040528cbbf4dae8d20a86551fea2c6": {
          "model_module": "@jupyter-widgets/controls",
          "model_name": "DescriptionStyleModel",
          "model_module_version": "1.5.0",
          "state": {
            "_view_name": "StyleView",
            "_model_name": "DescriptionStyleModel",
            "description_width": "",
            "_view_module": "@jupyter-widgets/base",
            "_model_module_version": "1.5.0",
            "_view_count": null,
            "_view_module_version": "1.2.0",
            "_model_module": "@jupyter-widgets/controls"
          }
        },
        "a969342124e24622bc6d3a47ae7e4558": {
          "model_module": "@jupyter-widgets/base",
          "model_name": "LayoutModel",
          "model_module_version": "1.2.0",
          "state": {
            "_view_name": "LayoutView",
            "grid_template_rows": null,
            "right": null,
            "justify_content": null,
            "_view_module": "@jupyter-widgets/base",
            "overflow": null,
            "_model_module_version": "1.2.0",
            "_view_count": null,
            "flex_flow": null,
            "width": null,
            "min_width": null,
            "border": null,
            "align_items": null,
            "bottom": null,
            "_model_module": "@jupyter-widgets/base",
            "top": null,
            "grid_column": null,
            "overflow_y": null,
            "overflow_x": null,
            "grid_auto_flow": null,
            "grid_area": null,
            "grid_template_columns": null,
            "flex": null,
            "_model_name": "LayoutModel",
            "justify_items": null,
            "grid_row": null,
            "max_height": null,
            "align_content": null,
            "visibility": null,
            "align_self": null,
            "height": null,
            "min_height": null,
            "padding": null,
            "grid_auto_rows": null,
            "grid_gap": null,
            "max_width": null,
            "order": null,
            "_view_module_version": "1.2.0",
            "grid_template_areas": null,
            "object_position": null,
            "object_fit": null,
            "grid_auto_columns": null,
            "margin": null,
            "display": null,
            "left": null
          }
        },
        "8cc29b4e1b314db0bc2e20982baea47a": {
          "model_module": "@jupyter-widgets/controls",
          "model_name": "ProgressStyleModel",
          "model_module_version": "1.5.0",
          "state": {
            "_view_name": "StyleView",
            "_model_name": "ProgressStyleModel",
            "description_width": "",
            "_view_module": "@jupyter-widgets/base",
            "_model_module_version": "1.5.0",
            "_view_count": null,
            "_view_module_version": "1.2.0",
            "bar_color": null,
            "_model_module": "@jupyter-widgets/controls"
          }
        },
        "7b8a382a03474e0bb99f0e4e128d6ed1": {
          "model_module": "@jupyter-widgets/base",
          "model_name": "LayoutModel",
          "model_module_version": "1.2.0",
          "state": {
            "_view_name": "LayoutView",
            "grid_template_rows": null,
            "right": null,
            "justify_content": null,
            "_view_module": "@jupyter-widgets/base",
            "overflow": null,
            "_model_module_version": "1.2.0",
            "_view_count": null,
            "flex_flow": null,
            "width": null,
            "min_width": null,
            "border": null,
            "align_items": null,
            "bottom": null,
            "_model_module": "@jupyter-widgets/base",
            "top": null,
            "grid_column": null,
            "overflow_y": null,
            "overflow_x": null,
            "grid_auto_flow": null,
            "grid_area": null,
            "grid_template_columns": null,
            "flex": null,
            "_model_name": "LayoutModel",
            "justify_items": null,
            "grid_row": null,
            "max_height": null,
            "align_content": null,
            "visibility": null,
            "align_self": null,
            "height": null,
            "min_height": null,
            "padding": null,
            "grid_auto_rows": null,
            "grid_gap": null,
            "max_width": null,
            "order": null,
            "_view_module_version": "1.2.0",
            "grid_template_areas": null,
            "object_position": null,
            "object_fit": null,
            "grid_auto_columns": null,
            "margin": null,
            "display": null,
            "left": null
          }
        },
        "a0b2a3f8a7dc410c88ef8408b6c03b8c": {
          "model_module": "@jupyter-widgets/controls",
          "model_name": "DescriptionStyleModel",
          "model_module_version": "1.5.0",
          "state": {
            "_view_name": "StyleView",
            "_model_name": "DescriptionStyleModel",
            "description_width": "",
            "_view_module": "@jupyter-widgets/base",
            "_model_module_version": "1.5.0",
            "_view_count": null,
            "_view_module_version": "1.2.0",
            "_model_module": "@jupyter-widgets/controls"
          }
        },
        "058f2c81163a488aa5e348ebfec222aa": {
          "model_module": "@jupyter-widgets/base",
          "model_name": "LayoutModel",
          "model_module_version": "1.2.0",
          "state": {
            "_view_name": "LayoutView",
            "grid_template_rows": null,
            "right": null,
            "justify_content": null,
            "_view_module": "@jupyter-widgets/base",
            "overflow": null,
            "_model_module_version": "1.2.0",
            "_view_count": null,
            "flex_flow": null,
            "width": null,
            "min_width": null,
            "border": null,
            "align_items": null,
            "bottom": null,
            "_model_module": "@jupyter-widgets/base",
            "top": null,
            "grid_column": null,
            "overflow_y": null,
            "overflow_x": null,
            "grid_auto_flow": null,
            "grid_area": null,
            "grid_template_columns": null,
            "flex": null,
            "_model_name": "LayoutModel",
            "justify_items": null,
            "grid_row": null,
            "max_height": null,
            "align_content": null,
            "visibility": null,
            "align_self": null,
            "height": null,
            "min_height": null,
            "padding": null,
            "grid_auto_rows": null,
            "grid_gap": null,
            "max_width": null,
            "order": null,
            "_view_module_version": "1.2.0",
            "grid_template_areas": null,
            "object_position": null,
            "object_fit": null,
            "grid_auto_columns": null,
            "margin": null,
            "display": null,
            "left": null
          }
        },
        "228f228ec0cc498daa631885738b2a64": {
          "model_module": "@jupyter-widgets/controls",
          "model_name": "HBoxModel",
          "model_module_version": "1.5.0",
          "state": {
            "_view_name": "HBoxView",
            "_dom_classes": [],
            "_model_name": "HBoxModel",
            "_view_module": "@jupyter-widgets/controls",
            "_model_module_version": "1.5.0",
            "_view_count": null,
            "_view_module_version": "1.5.0",
            "box_style": "",
            "layout": "IPY_MODEL_78fb60a918af4a5787679ee06831423f",
            "_model_module": "@jupyter-widgets/controls",
            "children": [
              "IPY_MODEL_ebf14cbed69b48eab07e4af4416a1228",
              "IPY_MODEL_7b3dcb5e2abb4ee59985249fd7675ed2",
              "IPY_MODEL_9475ab9b01814182ad06677b20f64601"
            ]
          }
        },
        "78fb60a918af4a5787679ee06831423f": {
          "model_module": "@jupyter-widgets/base",
          "model_name": "LayoutModel",
          "model_module_version": "1.2.0",
          "state": {
            "_view_name": "LayoutView",
            "grid_template_rows": null,
            "right": null,
            "justify_content": null,
            "_view_module": "@jupyter-widgets/base",
            "overflow": null,
            "_model_module_version": "1.2.0",
            "_view_count": null,
            "flex_flow": null,
            "width": null,
            "min_width": null,
            "border": null,
            "align_items": null,
            "bottom": null,
            "_model_module": "@jupyter-widgets/base",
            "top": null,
            "grid_column": null,
            "overflow_y": null,
            "overflow_x": null,
            "grid_auto_flow": null,
            "grid_area": null,
            "grid_template_columns": null,
            "flex": null,
            "_model_name": "LayoutModel",
            "justify_items": null,
            "grid_row": null,
            "max_height": null,
            "align_content": null,
            "visibility": null,
            "align_self": null,
            "height": null,
            "min_height": null,
            "padding": null,
            "grid_auto_rows": null,
            "grid_gap": null,
            "max_width": null,
            "order": null,
            "_view_module_version": "1.2.0",
            "grid_template_areas": null,
            "object_position": null,
            "object_fit": null,
            "grid_auto_columns": null,
            "margin": null,
            "display": null,
            "left": null
          }
        },
        "ebf14cbed69b48eab07e4af4416a1228": {
          "model_module": "@jupyter-widgets/controls",
          "model_name": "HTMLModel",
          "model_module_version": "1.5.0",
          "state": {
            "_view_name": "HTMLView",
            "style": "IPY_MODEL_c8b6d2ff59214c20a23aff731d22d96c",
            "_dom_classes": [],
            "description": "",
            "_model_name": "HTMLModel",
            "placeholder": "​",
            "_view_module": "@jupyter-widgets/controls",
            "_model_module_version": "1.5.0",
            "value": "",
            "_view_count": null,
            "_view_module_version": "1.5.0",
            "description_tooltip": null,
            "_model_module": "@jupyter-widgets/controls",
            "layout": "IPY_MODEL_600aa2900db347849bebda876c259605"
          }
        },
        "7b3dcb5e2abb4ee59985249fd7675ed2": {
          "model_module": "@jupyter-widgets/controls",
          "model_name": "FloatProgressModel",
          "model_module_version": "1.5.0",
          "state": {
            "_view_name": "ProgressView",
            "style": "IPY_MODEL_9f027620d9b049ab830ec0daed4f141b",
            "_dom_classes": [],
            "description": "",
            "_model_name": "FloatProgressModel",
            "bar_style": "success",
            "max": 2640397119,
            "_view_module": "@jupyter-widgets/controls",
            "_model_module_version": "1.5.0",
            "value": 2640397119,
            "_view_count": null,
            "_view_module_version": "1.5.0",
            "orientation": "horizontal",
            "min": 0,
            "description_tooltip": null,
            "_model_module": "@jupyter-widgets/controls",
            "layout": "IPY_MODEL_c708f063c05c4021966c475687c24408"
          }
        },
        "9475ab9b01814182ad06677b20f64601": {
          "model_module": "@jupyter-widgets/controls",
          "model_name": "HTMLModel",
          "model_module_version": "1.5.0",
          "state": {
            "_view_name": "HTMLView",
            "style": "IPY_MODEL_455f1e6d499c4e85b3a04d77a2a6f17b",
            "_dom_classes": [],
            "description": "",
            "_model_name": "HTMLModel",
            "placeholder": "​",
            "_view_module": "@jupyter-widgets/controls",
            "_model_module_version": "1.5.0",
            "value": " 2640397312/? [02:30&lt;00:00, 18240345.43it/s]",
            "_view_count": null,
            "_view_module_version": "1.5.0",
            "description_tooltip": null,
            "_model_module": "@jupyter-widgets/controls",
            "layout": "IPY_MODEL_563fdf543294418aa198e3402ddd5bd5"
          }
        },
        "c8b6d2ff59214c20a23aff731d22d96c": {
          "model_module": "@jupyter-widgets/controls",
          "model_name": "DescriptionStyleModel",
          "model_module_version": "1.5.0",
          "state": {
            "_view_name": "StyleView",
            "_model_name": "DescriptionStyleModel",
            "description_width": "",
            "_view_module": "@jupyter-widgets/base",
            "_model_module_version": "1.5.0",
            "_view_count": null,
            "_view_module_version": "1.2.0",
            "_model_module": "@jupyter-widgets/controls"
          }
        },
        "600aa2900db347849bebda876c259605": {
          "model_module": "@jupyter-widgets/base",
          "model_name": "LayoutModel",
          "model_module_version": "1.2.0",
          "state": {
            "_view_name": "LayoutView",
            "grid_template_rows": null,
            "right": null,
            "justify_content": null,
            "_view_module": "@jupyter-widgets/base",
            "overflow": null,
            "_model_module_version": "1.2.0",
            "_view_count": null,
            "flex_flow": null,
            "width": null,
            "min_width": null,
            "border": null,
            "align_items": null,
            "bottom": null,
            "_model_module": "@jupyter-widgets/base",
            "top": null,
            "grid_column": null,
            "overflow_y": null,
            "overflow_x": null,
            "grid_auto_flow": null,
            "grid_area": null,
            "grid_template_columns": null,
            "flex": null,
            "_model_name": "LayoutModel",
            "justify_items": null,
            "grid_row": null,
            "max_height": null,
            "align_content": null,
            "visibility": null,
            "align_self": null,
            "height": null,
            "min_height": null,
            "padding": null,
            "grid_auto_rows": null,
            "grid_gap": null,
            "max_width": null,
            "order": null,
            "_view_module_version": "1.2.0",
            "grid_template_areas": null,
            "object_position": null,
            "object_fit": null,
            "grid_auto_columns": null,
            "margin": null,
            "display": null,
            "left": null
          }
        },
        "9f027620d9b049ab830ec0daed4f141b": {
          "model_module": "@jupyter-widgets/controls",
          "model_name": "ProgressStyleModel",
          "model_module_version": "1.5.0",
          "state": {
            "_view_name": "StyleView",
            "_model_name": "ProgressStyleModel",
            "description_width": "",
            "_view_module": "@jupyter-widgets/base",
            "_model_module_version": "1.5.0",
            "_view_count": null,
            "_view_module_version": "1.2.0",
            "bar_color": null,
            "_model_module": "@jupyter-widgets/controls"
          }
        },
        "c708f063c05c4021966c475687c24408": {
          "model_module": "@jupyter-widgets/base",
          "model_name": "LayoutModel",
          "model_module_version": "1.2.0",
          "state": {
            "_view_name": "LayoutView",
            "grid_template_rows": null,
            "right": null,
            "justify_content": null,
            "_view_module": "@jupyter-widgets/base",
            "overflow": null,
            "_model_module_version": "1.2.0",
            "_view_count": null,
            "flex_flow": null,
            "width": null,
            "min_width": null,
            "border": null,
            "align_items": null,
            "bottom": null,
            "_model_module": "@jupyter-widgets/base",
            "top": null,
            "grid_column": null,
            "overflow_y": null,
            "overflow_x": null,
            "grid_auto_flow": null,
            "grid_area": null,
            "grid_template_columns": null,
            "flex": null,
            "_model_name": "LayoutModel",
            "justify_items": null,
            "grid_row": null,
            "max_height": null,
            "align_content": null,
            "visibility": null,
            "align_self": null,
            "height": null,
            "min_height": null,
            "padding": null,
            "grid_auto_rows": null,
            "grid_gap": null,
            "max_width": null,
            "order": null,
            "_view_module_version": "1.2.0",
            "grid_template_areas": null,
            "object_position": null,
            "object_fit": null,
            "grid_auto_columns": null,
            "margin": null,
            "display": null,
            "left": null
          }
        },
        "455f1e6d499c4e85b3a04d77a2a6f17b": {
          "model_module": "@jupyter-widgets/controls",
          "model_name": "DescriptionStyleModel",
          "model_module_version": "1.5.0",
          "state": {
            "_view_name": "StyleView",
            "_model_name": "DescriptionStyleModel",
            "description_width": "",
            "_view_module": "@jupyter-widgets/base",
            "_model_module_version": "1.5.0",
            "_view_count": null,
            "_view_module_version": "1.2.0",
            "_model_module": "@jupyter-widgets/controls"
          }
        },
        "563fdf543294418aa198e3402ddd5bd5": {
          "model_module": "@jupyter-widgets/base",
          "model_name": "LayoutModel",
          "model_module_version": "1.2.0",
          "state": {
            "_view_name": "LayoutView",
            "grid_template_rows": null,
            "right": null,
            "justify_content": null,
            "_view_module": "@jupyter-widgets/base",
            "overflow": null,
            "_model_module_version": "1.2.0",
            "_view_count": null,
            "flex_flow": null,
            "width": null,
            "min_width": null,
            "border": null,
            "align_items": null,
            "bottom": null,
            "_model_module": "@jupyter-widgets/base",
            "top": null,
            "grid_column": null,
            "overflow_y": null,
            "overflow_x": null,
            "grid_auto_flow": null,
            "grid_area": null,
            "grid_template_columns": null,
            "flex": null,
            "_model_name": "LayoutModel",
            "justify_items": null,
            "grid_row": null,
            "max_height": null,
            "align_content": null,
            "visibility": null,
            "align_self": null,
            "height": null,
            "min_height": null,
            "padding": null,
            "grid_auto_rows": null,
            "grid_gap": null,
            "max_width": null,
            "order": null,
            "_view_module_version": "1.2.0",
            "grid_template_areas": null,
            "object_position": null,
            "object_fit": null,
            "grid_auto_columns": null,
            "margin": null,
            "display": null,
            "left": null
          }
        }
      }
    }
  },
  "cells": [
    {
      "cell_type": "code",
      "execution_count": 2,
      "metadata": {
        "id": "iXOeGxYNEPmB"
      },
      "outputs": [],
      "source": [
        "import numpy as np\n",
        "import pandas as pd\n",
        "\n",
        "import torch\n",
        "import torch.nn as nn\n",
        "import torchvision\n",
        "import torchvision.transforms as transforms\n",
        "from torchsummary import summary\n",
        "from tqdm import tqdm\n",
        "\n",
        "import matplotlib.pyplot as plt"
      ]
    },
    {
      "cell_type": "code",
      "source": [
        "device = 'cuda' if torch.cuda.is_available() else 'cpu'"
      ],
      "metadata": {
        "id": "96OarmvHOA-g"
      },
      "execution_count": 3,
      "outputs": []
    },
    {
      "cell_type": "code",
      "source": [
        "BATCH_SIZE = 128\n",
        "EPOCHS = 15\n",
        "LR = 1e-3\n",
        "NUM_CLASSES = 10"
      ],
      "metadata": {
        "id": "OZihIm6gGTYI"
      },
      "execution_count": 4,
      "outputs": []
    },
    {
      "cell_type": "code",
      "source": [
        "stl_train = torchvision.datasets.STL10(root='./train',\n",
        "                                       split='train',\n",
        "                                       transform=transforms.ToTensor(),\n",
        "                                       download=True)\n",
        "\n",
        "stl_test = torchvision.datasets.STL10(root='./test',\n",
        "                                      split='test',\n",
        "                                      transform=transforms.ToTensor(),\n",
        "                                      download=True)"
      ],
      "metadata": {
        "colab": {
          "base_uri": "https://localhost:8080/",
          "height": 154,
          "referenced_widgets": [
            "93e67d62133f4567b9b14eba15025ea3",
            "8cd7e220244d43a484fc7a4949ff9993",
            "8c8284f6a37047cfaef6220b7db03336",
            "987a18e5a1814ccbb6114149f3a98ecd",
            "8120d66c6baf4bd9a53946801dcaaf88",
            "85040528cbbf4dae8d20a86551fea2c6",
            "a969342124e24622bc6d3a47ae7e4558",
            "8cc29b4e1b314db0bc2e20982baea47a",
            "7b8a382a03474e0bb99f0e4e128d6ed1",
            "a0b2a3f8a7dc410c88ef8408b6c03b8c",
            "058f2c81163a488aa5e348ebfec222aa",
            "228f228ec0cc498daa631885738b2a64",
            "78fb60a918af4a5787679ee06831423f",
            "ebf14cbed69b48eab07e4af4416a1228",
            "7b3dcb5e2abb4ee59985249fd7675ed2",
            "9475ab9b01814182ad06677b20f64601",
            "c8b6d2ff59214c20a23aff731d22d96c",
            "600aa2900db347849bebda876c259605",
            "9f027620d9b049ab830ec0daed4f141b",
            "c708f063c05c4021966c475687c24408",
            "455f1e6d499c4e85b3a04d77a2a6f17b",
            "563fdf543294418aa198e3402ddd5bd5"
          ]
        },
        "id": "wFb7GvKSFElY",
        "outputId": "c616a98b-f9f7-4281-91a3-66461ccaf01d"
      },
      "execution_count": 5,
      "outputs": [
        {
          "output_type": "stream",
          "name": "stdout",
          "text": [
            "Downloading http://ai.stanford.edu/~acoates/stl10/stl10_binary.tar.gz to ./train/stl10_binary.tar.gz\n"
          ]
        },
        {
          "output_type": "display_data",
          "data": {
            "application/vnd.jupyter.widget-view+json": {
              "model_id": "93e67d62133f4567b9b14eba15025ea3",
              "version_minor": 0,
              "version_major": 2
            },
            "text/plain": [
              "  0%|          | 0/2640397119 [00:00<?, ?it/s]"
            ]
          },
          "metadata": {}
        },
        {
          "output_type": "stream",
          "name": "stdout",
          "text": [
            "Extracting ./train/stl10_binary.tar.gz to ./train\n",
            "Downloading http://ai.stanford.edu/~acoates/stl10/stl10_binary.tar.gz to ./test/stl10_binary.tar.gz\n"
          ]
        },
        {
          "output_type": "display_data",
          "data": {
            "application/vnd.jupyter.widget-view+json": {
              "model_id": "228f228ec0cc498daa631885738b2a64",
              "version_minor": 0,
              "version_major": 2
            },
            "text/plain": [
              "  0%|          | 0/2640397119 [00:00<?, ?it/s]"
            ]
          },
          "metadata": {}
        },
        {
          "output_type": "stream",
          "name": "stdout",
          "text": [
            "Extracting ./test/stl10_binary.tar.gz to ./test\n"
          ]
        }
      ]
    },
    {
      "cell_type": "code",
      "source": [
        "train_meanRGB = [np.mean(x.numpy(), axis=(1,2)) for x, _ in stl_train]\n",
        "train_stdRGB = [np.std(x.numpy(), axis=(1,2)) for x, _ in stl_train]\n",
        "\n",
        "train_meanR = np.mean([m[0] for m in train_meanRGB])\n",
        "train_meanG = np.mean([m[1] for m in train_meanRGB])\n",
        "train_meanB = np.mean([m[2] for m in train_meanRGB])\n",
        "train_stdR = np.mean([s[0] for s in train_stdRGB])\n",
        "train_stdG = np.mean([s[1] for s in train_stdRGB])\n",
        "train_stdB = np.mean([s[2] for s in train_stdRGB])"
      ],
      "metadata": {
        "id": "FSOlVT8ndfGE"
      },
      "execution_count": 6,
      "outputs": []
    },
    {
      "cell_type": "code",
      "source": [
        "train_transform = transforms.Compose([transforms.ToTensor(),\n",
        "                                    transforms.Resize((224, 224)),\n",
        "                                    transforms.Normalize((train_meanR, train_meanG, train_meanB), (train_stdR, train_stdG, train_stdB)),\n",
        "                                    transforms.RandomHorizontalFlip()\n",
        "                                    ])\n",
        "\n",
        "val_transform = transforms.Compose([transforms.ToTensor(),\n",
        "                                    transforms.Resize((224, 224)),\n",
        "                                    transforms.Normalize((train_meanR, train_meanG, train_meanB), (train_stdR, train_stdG, train_stdB)),\n",
        "                                  ])"
      ],
      "metadata": {
        "id": "52DDMHv2ktHu"
      },
      "execution_count": 7,
      "outputs": []
    },
    {
      "cell_type": "code",
      "source": [
        "stl_train.transform = train_transform\n",
        "stl_test.transform = val_transform"
      ],
      "metadata": {
        "id": "WBm-OUZemBQJ"
      },
      "execution_count": 8,
      "outputs": []
    },
    {
      "cell_type": "code",
      "source": [
        "trainLoader = torch.utils.data.DataLoader(stl_train,\n",
        "                                          batch_size=BATCH_SIZE,\n",
        "                                          shuffle=True)\n",
        "\n",
        "testLoader = torch.utils.data.DataLoader(stl_test,\n",
        "                                         batch_size=BATCH_SIZE,\n",
        "                                         shuffle=False)"
      ],
      "metadata": {
        "id": "8OnElaXYFnl5"
      },
      "execution_count": 9,
      "outputs": []
    },
    {
      "cell_type": "code",
      "source": [
        "class conv_block(nn.Module):\n",
        "    def __init__(self, in_channels, out_channels, kernel_size, **kwargs):\n",
        "        super(conv_block, self).__init__()\n",
        "\n",
        "        self.conv = nn.Sequential(nn.Conv2d(in_channels, out_channels, kernel_size, **kwargs),\n",
        "                                  nn.BatchNorm2d(out_channels),\n",
        "                                  nn.ReLU())\n",
        "    \n",
        "    def forward(self, x):\n",
        "        out = self.conv(x)\n",
        "        return out"
      ],
      "metadata": {
        "id": "rdOQkDYuEpS-"
      },
      "execution_count": 10,
      "outputs": []
    },
    {
      "cell_type": "code",
      "source": [
        "class inception_module(nn.Module):\n",
        "    def __init__(self, in_ch, out_1x1, red_3x3, out_3x3, red_5x5, out_5x5, out_1x1pool):\n",
        "        super(inception_module, self).__init__()\n",
        "\n",
        "        self.conv1 = nn.Sequential(nn.Conv2d(in_ch, out_1x1, kernel_size=1),\n",
        "                                   nn.ReLU())\n",
        "        self.conv2 = nn.Sequential(nn.Conv2d(in_ch, red_3x3, kernel_size=1),\n",
        "                                   nn.Conv2d(red_3x3, out_3x3, kernel_size=3, padding=1),\n",
        "                                   nn.ReLU())\n",
        "        self.conv3 = nn.Sequential(nn.Conv2d(in_ch, red_5x5, kernel_size=1),\n",
        "                                   nn.Conv2d(red_5x5, out_5x5, kernel_size=5, padding=2),\n",
        "                                   nn.ReLU())\n",
        "        self.conv4 = nn.Sequential(nn.MaxPool2d(kernel_size=3, stride=1, padding=1),\n",
        "                                   nn.Conv2d(in_ch, out_1x1pool, kernel_size=1),\n",
        "                                   nn.ReLU())\n",
        "\n",
        "    def forward(self, x):\n",
        "        out1 = self.conv1(x)\n",
        "        out2 = self.conv2(x)\n",
        "        out3 = self.conv3(x)\n",
        "        out4 = self.conv4(x)\n",
        "        out = torch.cat([out1, out2, out3, out4], dim=1)\n",
        "        return out"
      ],
      "metadata": {
        "id": "edSxLNT5Gcix"
      },
      "execution_count": 11,
      "outputs": []
    },
    {
      "cell_type": "code",
      "source": [
        "class aux_classifier(nn.Module):\n",
        "    def __init__(self, in_channels):\n",
        "        super(aux_classifier, self).__init__()\n",
        "\n",
        "        self.conv = nn.Sequential(nn.AvgPool2d(kernel_size=5, stride=3),\n",
        "                                 conv_block(in_channels, 128, kernel_size=1)\n",
        "                                )\n",
        "        \n",
        "        self.fc = nn.Sequential(nn.Linear(2048, 1024),        \n",
        "                                nn.ReLU(),\n",
        "                                nn.Dropout(p=0.7),\n",
        "                                nn.Linear(1024, NUM_CLASSES)\n",
        "                               )\n",
        "        \n",
        "    def forward(self, x):\n",
        "        x = self.conv(x)\n",
        "        x = x.flatten(start_dim=1)\n",
        "        out = self.fc(x)\n",
        "        return out"
      ],
      "metadata": {
        "id": "CeLh6knaFngo"
      },
      "execution_count": 12,
      "outputs": []
    },
    {
      "cell_type": "code",
      "source": [
        "class My_GoogeLeNet(nn.Module):\n",
        "    def __init__(self):\n",
        "        super(My_GoogeLeNet, self).__init__()\n",
        "        self.conv1 = nn.Conv2d(3, 64, kernel_size=7, stride=2, padding=3)\n",
        "        self.maxpool1 = nn.MaxPool2d(kernel_size=3, stride=2, padding=1)\n",
        "        self.conv2 = nn.Conv2d(64, 192, kernel_size=3, stride=1, padding=1)\n",
        "        self.maxpool2 = nn.MaxPool2d(kernel_size=3, stride=2, padding=1)\n",
        "        self.inception3a = inception_module(192, 64, 96, 128, 16, 32, 32)\n",
        "        self.inception3b = inception_module(256, 128, 128, 192, 32, 96, 64)\n",
        "        self.maxpool3 = nn.MaxPool2d(kernel_size=3, stride=2, padding=1)\n",
        "        self.inception4a = inception_module(480, 192, 96, 208, 16, 48, 64)\n",
        "        self.inception4b = inception_module(512, 160, 112, 224, 24, 64, 64)\n",
        "        self.inception4c = inception_module(512, 128, 128, 256, 24, 64, 64)\n",
        "        self.inception4d = inception_module(512, 112, 144, 288, 32, 64, 64)\n",
        "        self.inception4e = inception_module(528, 256, 160, 320, 32, 128, 128)\n",
        "        self.maxpool4 = nn.MaxPool2d(kernel_size=3, stride=2, padding=1)\n",
        "        self.inception5a = inception_module(832, 256, 160, 320, 32, 128, 128)\n",
        "        self.inception5b = inception_module(832, 384, 192, 384, 48, 128, 128)\n",
        "        self.avgpool = nn.AvgPool2d(kernel_size=7, stride=1)\n",
        "        self.dropout = nn.Dropout(p=0.4)\n",
        "        self.fc = nn.Linear(1024, NUM_CLASSES)\n",
        "\n",
        "        self.aux1 = aux_classifier(512)\n",
        "        self.aux2 = aux_classifier(528)\n",
        "\n",
        "    def forward(self, x, train=True):\n",
        "        x = self.conv1(x)\n",
        "        x = self.maxpool1(x)\n",
        "        x = self.conv2(x)\n",
        "        x = self.maxpool2(x)\n",
        "        x = self.inception3a(x)\n",
        "        x = self.inception3b(x)\n",
        "        x = self.maxpool3(x)\n",
        "        x = self.inception4a(x)\n",
        "        if train:\n",
        "            aux_out1 = self.aux1(x)\n",
        "        x = self.inception4b(x)\n",
        "        x = self.inception4c(x)\n",
        "        x = self.inception4d(x)\n",
        "        if train:\n",
        "            aux_out2 = self.aux2(x)\n",
        "        x = self.inception4e(x)\n",
        "        x = self.maxpool4(x)\n",
        "        x = self.inception5a(x)\n",
        "        x = self.inception5b(x)\n",
        "        x = self.avgpool(x)\n",
        "\n",
        "        x = x.flatten(start_dim=1)\n",
        "        x = self.dropout(x)\n",
        "        out = self.fc(x)\n",
        "\n",
        "        if train:\n",
        "            return aux_out1, aux_out2, out\n",
        "        else: \n",
        "            return out"
      ],
      "metadata": {
        "id": "85N99m7LPvnt"
      },
      "execution_count": 13,
      "outputs": []
    },
    {
      "cell_type": "code",
      "source": [
        "model = My_GoogeLeNet().to(device)"
      ],
      "metadata": {
        "id": "tczIHdycXjyQ"
      },
      "execution_count": 14,
      "outputs": []
    },
    {
      "cell_type": "code",
      "source": [
        "summary(model, (3, 224, 224), device=device)"
      ],
      "metadata": {
        "colab": {
          "base_uri": "https://localhost:8080/"
        },
        "id": "Zn0W0Y1BcVRa",
        "outputId": "97400ff0-3ced-4861-f7e4-90c0ef1c5963"
      },
      "execution_count": 15,
      "outputs": [
        {
          "output_type": "stream",
          "name": "stdout",
          "text": [
            "----------------------------------------------------------------\n",
            "        Layer (type)               Output Shape         Param #\n",
            "================================================================\n",
            "            Conv2d-1         [-1, 64, 112, 112]           9,472\n",
            "         MaxPool2d-2           [-1, 64, 56, 56]               0\n",
            "            Conv2d-3          [-1, 192, 56, 56]         110,784\n",
            "         MaxPool2d-4          [-1, 192, 28, 28]               0\n",
            "            Conv2d-5           [-1, 64, 28, 28]          12,352\n",
            "              ReLU-6           [-1, 64, 28, 28]               0\n",
            "            Conv2d-7           [-1, 96, 28, 28]          18,528\n",
            "            Conv2d-8          [-1, 128, 28, 28]         110,720\n",
            "              ReLU-9          [-1, 128, 28, 28]               0\n",
            "           Conv2d-10           [-1, 16, 28, 28]           3,088\n",
            "           Conv2d-11           [-1, 32, 28, 28]          12,832\n",
            "             ReLU-12           [-1, 32, 28, 28]               0\n",
            "        MaxPool2d-13          [-1, 192, 28, 28]               0\n",
            "           Conv2d-14           [-1, 32, 28, 28]           6,176\n",
            "             ReLU-15           [-1, 32, 28, 28]               0\n",
            " inception_module-16          [-1, 256, 28, 28]               0\n",
            "           Conv2d-17          [-1, 128, 28, 28]          32,896\n",
            "             ReLU-18          [-1, 128, 28, 28]               0\n",
            "           Conv2d-19          [-1, 128, 28, 28]          32,896\n",
            "           Conv2d-20          [-1, 192, 28, 28]         221,376\n",
            "             ReLU-21          [-1, 192, 28, 28]               0\n",
            "           Conv2d-22           [-1, 32, 28, 28]           8,224\n",
            "           Conv2d-23           [-1, 96, 28, 28]          76,896\n",
            "             ReLU-24           [-1, 96, 28, 28]               0\n",
            "        MaxPool2d-25          [-1, 256, 28, 28]               0\n",
            "           Conv2d-26           [-1, 64, 28, 28]          16,448\n",
            "             ReLU-27           [-1, 64, 28, 28]               0\n",
            " inception_module-28          [-1, 480, 28, 28]               0\n",
            "        MaxPool2d-29          [-1, 480, 14, 14]               0\n",
            "           Conv2d-30          [-1, 192, 14, 14]          92,352\n",
            "             ReLU-31          [-1, 192, 14, 14]               0\n",
            "           Conv2d-32           [-1, 96, 14, 14]          46,176\n",
            "           Conv2d-33          [-1, 208, 14, 14]         179,920\n",
            "             ReLU-34          [-1, 208, 14, 14]               0\n",
            "           Conv2d-35           [-1, 16, 14, 14]           7,696\n",
            "           Conv2d-36           [-1, 48, 14, 14]          19,248\n",
            "             ReLU-37           [-1, 48, 14, 14]               0\n",
            "        MaxPool2d-38          [-1, 480, 14, 14]               0\n",
            "           Conv2d-39           [-1, 64, 14, 14]          30,784\n",
            "             ReLU-40           [-1, 64, 14, 14]               0\n",
            " inception_module-41          [-1, 512, 14, 14]               0\n",
            "        AvgPool2d-42            [-1, 512, 4, 4]               0\n",
            "           Conv2d-43            [-1, 128, 4, 4]          65,664\n",
            "      BatchNorm2d-44            [-1, 128, 4, 4]             256\n",
            "             ReLU-45            [-1, 128, 4, 4]               0\n",
            "       conv_block-46            [-1, 128, 4, 4]               0\n",
            "           Linear-47                 [-1, 1024]       2,098,176\n",
            "             ReLU-48                 [-1, 1024]               0\n",
            "          Dropout-49                 [-1, 1024]               0\n",
            "           Linear-50                   [-1, 10]          10,250\n",
            "   aux_classifier-51                   [-1, 10]               0\n",
            "           Conv2d-52          [-1, 160, 14, 14]          82,080\n",
            "             ReLU-53          [-1, 160, 14, 14]               0\n",
            "           Conv2d-54          [-1, 112, 14, 14]          57,456\n",
            "           Conv2d-55          [-1, 224, 14, 14]         226,016\n",
            "             ReLU-56          [-1, 224, 14, 14]               0\n",
            "           Conv2d-57           [-1, 24, 14, 14]          12,312\n",
            "           Conv2d-58           [-1, 64, 14, 14]          38,464\n",
            "             ReLU-59           [-1, 64, 14, 14]               0\n",
            "        MaxPool2d-60          [-1, 512, 14, 14]               0\n",
            "           Conv2d-61           [-1, 64, 14, 14]          32,832\n",
            "             ReLU-62           [-1, 64, 14, 14]               0\n",
            " inception_module-63          [-1, 512, 14, 14]               0\n",
            "           Conv2d-64          [-1, 128, 14, 14]          65,664\n",
            "             ReLU-65          [-1, 128, 14, 14]               0\n",
            "           Conv2d-66          [-1, 128, 14, 14]          65,664\n",
            "           Conv2d-67          [-1, 256, 14, 14]         295,168\n",
            "             ReLU-68          [-1, 256, 14, 14]               0\n",
            "           Conv2d-69           [-1, 24, 14, 14]          12,312\n",
            "           Conv2d-70           [-1, 64, 14, 14]          38,464\n",
            "             ReLU-71           [-1, 64, 14, 14]               0\n",
            "        MaxPool2d-72          [-1, 512, 14, 14]               0\n",
            "           Conv2d-73           [-1, 64, 14, 14]          32,832\n",
            "             ReLU-74           [-1, 64, 14, 14]               0\n",
            " inception_module-75          [-1, 512, 14, 14]               0\n",
            "           Conv2d-76          [-1, 112, 14, 14]          57,456\n",
            "             ReLU-77          [-1, 112, 14, 14]               0\n",
            "           Conv2d-78          [-1, 144, 14, 14]          73,872\n",
            "           Conv2d-79          [-1, 288, 14, 14]         373,536\n",
            "             ReLU-80          [-1, 288, 14, 14]               0\n",
            "           Conv2d-81           [-1, 32, 14, 14]          16,416\n",
            "           Conv2d-82           [-1, 64, 14, 14]          51,264\n",
            "             ReLU-83           [-1, 64, 14, 14]               0\n",
            "        MaxPool2d-84          [-1, 512, 14, 14]               0\n",
            "           Conv2d-85           [-1, 64, 14, 14]          32,832\n",
            "             ReLU-86           [-1, 64, 14, 14]               0\n",
            " inception_module-87          [-1, 528, 14, 14]               0\n",
            "        AvgPool2d-88            [-1, 528, 4, 4]               0\n",
            "           Conv2d-89            [-1, 128, 4, 4]          67,712\n",
            "      BatchNorm2d-90            [-1, 128, 4, 4]             256\n",
            "             ReLU-91            [-1, 128, 4, 4]               0\n",
            "       conv_block-92            [-1, 128, 4, 4]               0\n",
            "           Linear-93                 [-1, 1024]       2,098,176\n",
            "             ReLU-94                 [-1, 1024]               0\n",
            "          Dropout-95                 [-1, 1024]               0\n",
            "           Linear-96                   [-1, 10]          10,250\n",
            "   aux_classifier-97                   [-1, 10]               0\n",
            "           Conv2d-98          [-1, 256, 14, 14]         135,424\n",
            "             ReLU-99          [-1, 256, 14, 14]               0\n",
            "          Conv2d-100          [-1, 160, 14, 14]          84,640\n",
            "          Conv2d-101          [-1, 320, 14, 14]         461,120\n",
            "            ReLU-102          [-1, 320, 14, 14]               0\n",
            "          Conv2d-103           [-1, 32, 14, 14]          16,928\n",
            "          Conv2d-104          [-1, 128, 14, 14]         102,528\n",
            "            ReLU-105          [-1, 128, 14, 14]               0\n",
            "       MaxPool2d-106          [-1, 528, 14, 14]               0\n",
            "          Conv2d-107          [-1, 128, 14, 14]          67,712\n",
            "            ReLU-108          [-1, 128, 14, 14]               0\n",
            "inception_module-109          [-1, 832, 14, 14]               0\n",
            "       MaxPool2d-110            [-1, 832, 7, 7]               0\n",
            "          Conv2d-111            [-1, 256, 7, 7]         213,248\n",
            "            ReLU-112            [-1, 256, 7, 7]               0\n",
            "          Conv2d-113            [-1, 160, 7, 7]         133,280\n",
            "          Conv2d-114            [-1, 320, 7, 7]         461,120\n",
            "            ReLU-115            [-1, 320, 7, 7]               0\n",
            "          Conv2d-116             [-1, 32, 7, 7]          26,656\n",
            "          Conv2d-117            [-1, 128, 7, 7]         102,528\n",
            "            ReLU-118            [-1, 128, 7, 7]               0\n",
            "       MaxPool2d-119            [-1, 832, 7, 7]               0\n",
            "          Conv2d-120            [-1, 128, 7, 7]         106,624\n",
            "            ReLU-121            [-1, 128, 7, 7]               0\n",
            "inception_module-122            [-1, 832, 7, 7]               0\n",
            "          Conv2d-123            [-1, 384, 7, 7]         319,872\n",
            "            ReLU-124            [-1, 384, 7, 7]               0\n",
            "          Conv2d-125            [-1, 192, 7, 7]         159,936\n",
            "          Conv2d-126            [-1, 384, 7, 7]         663,936\n",
            "            ReLU-127            [-1, 384, 7, 7]               0\n",
            "          Conv2d-128             [-1, 48, 7, 7]          39,984\n",
            "          Conv2d-129            [-1, 128, 7, 7]         153,728\n",
            "            ReLU-130            [-1, 128, 7, 7]               0\n",
            "       MaxPool2d-131            [-1, 832, 7, 7]               0\n",
            "          Conv2d-132            [-1, 128, 7, 7]         106,624\n",
            "            ReLU-133            [-1, 128, 7, 7]               0\n",
            "inception_module-134           [-1, 1024, 7, 7]               0\n",
            "       AvgPool2d-135           [-1, 1024, 1, 1]               0\n",
            "         Dropout-136                 [-1, 1024]               0\n",
            "          Linear-137                   [-1, 10]          10,250\n",
            "================================================================\n",
            "Total params: 10,330,382\n",
            "Trainable params: 10,330,382\n",
            "Non-trainable params: 0\n",
            "----------------------------------------------------------------\n",
            "Input size (MB): 0.57\n",
            "Forward/backward pass size (MB): 53.07\n",
            "Params size (MB): 39.41\n",
            "Estimated Total Size (MB): 93.05\n",
            "----------------------------------------------------------------\n"
          ]
        }
      ]
    },
    {
      "cell_type": "code",
      "source": [
        "# optimizer = torch.optim.SGD(model.parameters(), lr=LR, momentum=0.9)\n",
        "optimizer = torch.optim.Adam(model.parameters(), lr=LR)\n",
        "loss_fn = nn.CrossEntropyLoss()\n",
        "scheduler = torch.optim.lr_scheduler.StepLR(optimizer, 8, 0.96)"
      ],
      "metadata": {
        "id": "FuVq5j-4NaCc"
      },
      "execution_count": 16,
      "outputs": []
    },
    {
      "cell_type": "code",
      "source": [
        "def train_loop(model, trainLoader):\n",
        "    model.train()\n",
        "    train_loss = 0\n",
        "    train_acc = 0\n",
        "    for data, target in tqdm(trainLoader):\n",
        "        data, target = data.to(device), target.to(device)\n",
        "        aux_out1, aux_out2, output = model(data, train=True)\n",
        "        aux_loss1 = loss_fn(aux_out1, target)\n",
        "        aux_loss2 = loss_fn(aux_out2, target)\n",
        "        loss = loss_fn(output, target)\n",
        "\n",
        "        total_loss = aux_loss1 * 0.3 + aux_loss2 * 0.3 + loss\n",
        "        optimizer.zero_grad()\n",
        "        total_loss.backward()\n",
        "        optimizer.step()\n",
        "        scheduler.step()\n",
        "\n",
        "        train_loss += loss.item()\n",
        "        train_acc += (torch.argmax(output, dim=1) == target).sum().item()\n",
        "    return train_loss / len(trainLoader), train_acc / len(trainLoader.dataset) * 100"
      ],
      "metadata": {
        "id": "To3KRs_sNydK"
      },
      "execution_count": 17,
      "outputs": []
    },
    {
      "cell_type": "code",
      "source": [
        "def val_loop(model, valLoader):\n",
        "    model.eval()\n",
        "    val_loss = 0\n",
        "    val_acc = 0\n",
        "    with torch.no_grad():\n",
        "        for data, target in tqdm(valLoader):\n",
        "            data, target = data.to(device), target.to(device)\n",
        "            output = model(data, train=False)\n",
        "            loss = loss_fn(output, target)\n",
        "\n",
        "            val_loss += loss.item()\n",
        "            val_acc += (torch.argmax(output, dim=1) == target).sum().item()\n",
        "    return val_loss / len(valLoader), val_acc / len(valLoader.dataset) * 100"
      ],
      "metadata": {
        "id": "51ObBsVFNykH"
      },
      "execution_count": 18,
      "outputs": []
    },
    {
      "cell_type": "code",
      "source": [
        "for epoch in range(1, EPOCHS+1):\n",
        "    train_loss, train_acc = train_loop(model, trainLoader)\n",
        "    val_loss, val_acc = val_loop(model, testLoader)\n",
        "\n",
        "    print(f'\\n[[ EPOCH {epoch:2d} ]]')\n",
        "    print('Train Loss : {:.4f}, Train Accuracy : {:.2f} %'.format(train_loss, train_acc))\n",
        "    print('Valid Loss : {:.4f}, Valid Accuracy : {:.2f} %\\n'.format(val_loss, val_acc))"
      ],
      "metadata": {
        "colab": {
          "base_uri": "https://localhost:8080/"
        },
        "id": "RxIuEjiYPY4t",
        "outputId": "c64a41f4-5fd3-4709-cf2a-0d7378be4232"
      },
      "execution_count": 19,
      "outputs": [
        {
          "output_type": "stream",
          "name": "stderr",
          "text": [
            "100%|██████████| 40/40 [00:54<00:00,  1.37s/it]\n",
            "100%|██████████| 63/63 [00:40<00:00,  1.56it/s]\n"
          ]
        },
        {
          "output_type": "stream",
          "name": "stdout",
          "text": [
            "\n",
            "[[ EPOCH  1 ]]\n",
            "Train Loss : 2.3195, Train Accuracy : 10.74 %\n",
            "Valid Loss : 2.3074, Valid Accuracy : 10.00 %\n",
            "\n"
          ]
        },
        {
          "output_type": "stream",
          "name": "stderr",
          "text": [
            "100%|██████████| 40/40 [00:55<00:00,  1.38s/it]\n",
            "100%|██████████| 63/63 [00:40<00:00,  1.55it/s]\n"
          ]
        },
        {
          "output_type": "stream",
          "name": "stdout",
          "text": [
            "\n",
            "[[ EPOCH  2 ]]\n",
            "Train Loss : 2.2017, Train Accuracy : 14.58 %\n",
            "Valid Loss : 2.0116, Valid Accuracy : 18.85 %\n",
            "\n"
          ]
        },
        {
          "output_type": "stream",
          "name": "stderr",
          "text": [
            "100%|██████████| 40/40 [00:55<00:00,  1.38s/it]\n",
            "100%|██████████| 63/63 [00:40<00:00,  1.57it/s]\n"
          ]
        },
        {
          "output_type": "stream",
          "name": "stdout",
          "text": [
            "\n",
            "[[ EPOCH  3 ]]\n",
            "Train Loss : 1.8202, Train Accuracy : 23.62 %\n",
            "Valid Loss : 2.0147, Valid Accuracy : 22.60 %\n",
            "\n"
          ]
        },
        {
          "output_type": "stream",
          "name": "stderr",
          "text": [
            "100%|██████████| 40/40 [00:54<00:00,  1.37s/it]\n",
            "100%|██████████| 63/63 [00:40<00:00,  1.57it/s]\n"
          ]
        },
        {
          "output_type": "stream",
          "name": "stdout",
          "text": [
            "\n",
            "[[ EPOCH  4 ]]\n",
            "Train Loss : 1.7001, Train Accuracy : 29.84 %\n",
            "Valid Loss : 1.6751, Valid Accuracy : 29.50 %\n",
            "\n"
          ]
        },
        {
          "output_type": "stream",
          "name": "stderr",
          "text": [
            "100%|██████████| 40/40 [00:54<00:00,  1.37s/it]\n",
            "100%|██████████| 63/63 [00:39<00:00,  1.59it/s]\n"
          ]
        },
        {
          "output_type": "stream",
          "name": "stdout",
          "text": [
            "\n",
            "[[ EPOCH  5 ]]\n",
            "Train Loss : 1.5736, Train Accuracy : 34.28 %\n",
            "Valid Loss : 1.5100, Valid Accuracy : 37.99 %\n",
            "\n"
          ]
        },
        {
          "output_type": "stream",
          "name": "stderr",
          "text": [
            "100%|██████████| 40/40 [00:54<00:00,  1.37s/it]\n",
            "100%|██████████| 63/63 [00:40<00:00,  1.56it/s]\n"
          ]
        },
        {
          "output_type": "stream",
          "name": "stdout",
          "text": [
            "\n",
            "[[ EPOCH  6 ]]\n",
            "Train Loss : 1.5564, Train Accuracy : 36.74 %\n",
            "Valid Loss : 1.5387, Valid Accuracy : 38.38 %\n",
            "\n"
          ]
        },
        {
          "output_type": "stream",
          "name": "stderr",
          "text": [
            "100%|██████████| 40/40 [00:54<00:00,  1.37s/it]\n",
            "100%|██████████| 63/63 [00:40<00:00,  1.57it/s]\n"
          ]
        },
        {
          "output_type": "stream",
          "name": "stdout",
          "text": [
            "\n",
            "[[ EPOCH  7 ]]\n",
            "Train Loss : 1.4676, Train Accuracy : 38.26 %\n",
            "Valid Loss : 1.4418, Valid Accuracy : 40.56 %\n",
            "\n"
          ]
        },
        {
          "output_type": "stream",
          "name": "stderr",
          "text": [
            "100%|██████████| 40/40 [00:54<00:00,  1.37s/it]\n",
            "100%|██████████| 63/63 [00:40<00:00,  1.57it/s]\n"
          ]
        },
        {
          "output_type": "stream",
          "name": "stdout",
          "text": [
            "\n",
            "[[ EPOCH  8 ]]\n",
            "Train Loss : 1.4092, Train Accuracy : 43.18 %\n",
            "Valid Loss : 1.5209, Valid Accuracy : 38.60 %\n",
            "\n"
          ]
        },
        {
          "output_type": "stream",
          "name": "stderr",
          "text": [
            "100%|██████████| 40/40 [00:54<00:00,  1.37s/it]\n",
            "100%|██████████| 63/63 [00:40<00:00,  1.57it/s]\n"
          ]
        },
        {
          "output_type": "stream",
          "name": "stdout",
          "text": [
            "\n",
            "[[ EPOCH  9 ]]\n",
            "Train Loss : 1.3976, Train Accuracy : 41.94 %\n",
            "Valid Loss : 1.4176, Valid Accuracy : 44.44 %\n",
            "\n"
          ]
        },
        {
          "output_type": "stream",
          "name": "stderr",
          "text": [
            "100%|██████████| 40/40 [00:54<00:00,  1.37s/it]\n",
            "100%|██████████| 63/63 [00:40<00:00,  1.56it/s]\n"
          ]
        },
        {
          "output_type": "stream",
          "name": "stdout",
          "text": [
            "\n",
            "[[ EPOCH 10 ]]\n",
            "Train Loss : 1.3416, Train Accuracy : 46.06 %\n",
            "Valid Loss : 1.4116, Valid Accuracy : 43.23 %\n",
            "\n"
          ]
        },
        {
          "output_type": "stream",
          "name": "stderr",
          "text": [
            "100%|██████████| 40/40 [00:54<00:00,  1.37s/it]\n",
            "100%|██████████| 63/63 [00:40<00:00,  1.55it/s]\n"
          ]
        },
        {
          "output_type": "stream",
          "name": "stdout",
          "text": [
            "\n",
            "[[ EPOCH 11 ]]\n",
            "Train Loss : 1.2876, Train Accuracy : 48.64 %\n",
            "Valid Loss : 1.3375, Valid Accuracy : 48.33 %\n",
            "\n"
          ]
        },
        {
          "output_type": "stream",
          "name": "stderr",
          "text": [
            "100%|██████████| 40/40 [00:55<00:00,  1.38s/it]\n",
            "100%|██████████| 63/63 [00:40<00:00,  1.54it/s]\n"
          ]
        },
        {
          "output_type": "stream",
          "name": "stdout",
          "text": [
            "\n",
            "[[ EPOCH 12 ]]\n",
            "Train Loss : 1.2393, Train Accuracy : 50.10 %\n",
            "Valid Loss : 1.3310, Valid Accuracy : 47.93 %\n",
            "\n"
          ]
        },
        {
          "output_type": "stream",
          "name": "stderr",
          "text": [
            "100%|██████████| 40/40 [00:55<00:00,  1.38s/it]\n",
            "100%|██████████| 63/63 [00:40<00:00,  1.54it/s]\n"
          ]
        },
        {
          "output_type": "stream",
          "name": "stdout",
          "text": [
            "\n",
            "[[ EPOCH 13 ]]\n",
            "Train Loss : 1.2162, Train Accuracy : 51.48 %\n",
            "Valid Loss : 1.2731, Valid Accuracy : 49.15 %\n",
            "\n"
          ]
        },
        {
          "output_type": "stream",
          "name": "stderr",
          "text": [
            "100%|██████████| 40/40 [00:55<00:00,  1.38s/it]\n",
            "100%|██████████| 63/63 [00:40<00:00,  1.54it/s]\n"
          ]
        },
        {
          "output_type": "stream",
          "name": "stdout",
          "text": [
            "\n",
            "[[ EPOCH 14 ]]\n",
            "Train Loss : 1.1849, Train Accuracy : 52.80 %\n",
            "Valid Loss : 1.2510, Valid Accuracy : 51.10 %\n",
            "\n"
          ]
        },
        {
          "output_type": "stream",
          "name": "stderr",
          "text": [
            "100%|██████████| 40/40 [00:55<00:00,  1.38s/it]\n",
            "100%|██████████| 63/63 [00:40<00:00,  1.55it/s]"
          ]
        },
        {
          "output_type": "stream",
          "name": "stdout",
          "text": [
            "\n",
            "[[ EPOCH 15 ]]\n",
            "Train Loss : 1.1334, Train Accuracy : 55.20 %\n",
            "Valid Loss : 1.2498, Valid Accuracy : 52.48 %\n",
            "\n"
          ]
        },
        {
          "output_type": "stream",
          "name": "stderr",
          "text": [
            "\n"
          ]
        }
      ]
    }
  ]
}